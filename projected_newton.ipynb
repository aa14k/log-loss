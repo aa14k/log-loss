{
 "cells": [
  {
   "cell_type": "code",
   "execution_count": 1,
   "id": "bf98aa4d-553e-4766-a9fd-a9ec573ebb40",
   "metadata": {
    "execution": {
     "iopub.execute_input": "2023-08-29T01:52:22.798216Z",
     "iopub.status.busy": "2023-08-29T01:52:22.797860Z",
     "iopub.status.idle": "2023-08-29T01:52:23.085071Z",
     "shell.execute_reply": "2023-08-29T01:52:23.084184Z",
     "shell.execute_reply.started": "2023-08-29T01:52:22.798188Z"
    },
    "tags": []
   },
   "outputs": [],
   "source": [
    "import numpy as np\n",
    "import cvxpy as cp"
   ]
  },
  {
   "attachments": {},
   "cell_type": "markdown",
   "id": "7a1c1de6-840b-4e25-b689-12fed4dbecbc",
   "metadata": {},
   "source": [
    "Projected Newton method uses:\n",
    "\n",
    "$$\n",
    "w^{k + 1/2} = w^k - \\alpha_k H_k^{-1} \\nabla \\mathcal{L}(\\theta)\n",
    "$$\n",
    "\n",
    "then updates the projection under the Hessian metric\n",
    "\n",
    "$$\n",
    "w^{k+1} = \\arg\\min_{v \\in \\mathcal{C}} \\lVert v - w^{k + 1/2} \\rVert_{H_k}.\n",
    "$$\n",
    "\n",
    "Note that for our case $\\mathcal{C} = \\{ \\theta \\in \\mathbb{R}^d : \\theta^\\top X^\\top X \\theta \\leq 1/4 \\}$. Thus the above constrainted optimization problem is a QCQP. "
   ]
  },
  {
   "cell_type": "code",
   "execution_count": 67,
   "id": "2edde996-e16f-40d6-a205-66bc0c12dd07",
   "metadata": {
    "execution": {
     "iopub.execute_input": "2023-08-29T01:56:33.088438Z",
     "iopub.status.busy": "2023-08-29T01:56:33.087813Z",
     "iopub.status.idle": "2023-08-29T01:56:33.098893Z",
     "shell.execute_reply": "2023-08-29T01:56:33.098074Z",
     "shell.execute_reply.started": "2023-08-29T01:56:33.088400Z"
    },
    "tags": []
   },
   "outputs": [],
   "source": [
    "class projected_Newton(object):\n",
    "    def __init__(self, features, obs, d, theta):\n",
    "        self.features = features\n",
    "        self.obs = obs\n",
    "        self.d = d\n",
    "        self.theta = theta\n",
    "        self.n = len(self.obs)\n",
    "    \n",
    "    \n",
    "    def get_gradient(self):\n",
    "        grad = np.zeros(self.d)\n",
    "        self.inner = np.dot(self.features,self.theta)\n",
    "        self.mu = np.zeros((self.n,self.d))\n",
    "        self.mu[:,0] = 4 * (self.inner - self.obs) / (4 * self.inner ** 2 - 1)\n",
    "        for i in range(1,self.d):\n",
    "            self.mu[:,i] = self.mu[:,0]\n",
    "        self.mult = self.mu * self.features.copy()\n",
    "#        for i in range(self.n):\n",
    "#            grad += self.mult[i]\n",
    "        grad = np.sum(self.mult,axis=0)\n",
    "        return grad\n",
    "    \n",
    "    def get_hessian(self):\n",
    "        inner = np.dot(self.features,self.theta)\n",
    "        dot_mu_root = np.sqrt((4 * (inner ** 2 - 8 * self.obs * inner + 1)) / (1 - 4 * inner ** 2))\n",
    "        X = self.features\n",
    "        for i in range(self.d):\n",
    "            X[:,i] = np.multiply(X[:,i],dot_mu_root)\n",
    "        hess = np.einsum('ij,ik->jk', X, X)\n",
    "        return -1.0 * hess"
   ]
  },
  {
   "cell_type": "code",
   "execution_count": 74,
   "id": "2a503f5e-97ce-4750-aa70-b741d47dee70",
   "metadata": {
    "execution": {
     "iopub.execute_input": "2023-08-29T01:56:50.110581Z",
     "iopub.status.busy": "2023-08-29T01:56:50.109958Z",
     "iopub.status.idle": "2023-08-29T01:56:50.116415Z",
     "shell.execute_reply": "2023-08-29T01:56:50.115525Z",
     "shell.execute_reply.started": "2023-08-29T01:56:50.110544Z"
    },
    "tags": []
   },
   "outputs": [],
   "source": [
    "d = 2\n",
    "X = np.random.normal(size=(10,2))\n",
    "obs = np.zeros(10) - 1/2\n",
    "theta = np.zeros(d)\n",
    "reg = projected_Newton(X,obs,d,theta)"
   ]
  },
  {
   "cell_type": "code",
   "execution_count": 75,
   "id": "ffd909be-83fd-4dc4-9e82-c6147dc724b9",
   "metadata": {
    "execution": {
     "iopub.execute_input": "2023-08-29T01:56:50.451051Z",
     "iopub.status.busy": "2023-08-29T01:56:50.450656Z",
     "iopub.status.idle": "2023-08-29T01:56:50.459116Z",
     "shell.execute_reply": "2023-08-29T01:56:50.458191Z",
     "shell.execute_reply.started": "2023-08-29T01:56:50.451022Z"
    },
    "tags": []
   },
   "outputs": [
    {
     "name": "stdout",
     "output_type": "stream",
     "text": [
      "[[-0.97333405  1.6612397 ]\n",
      " [-1.14870505 -0.63096407]\n",
      " [ 0.12672883 -1.85037336]\n",
      " [-0.08713633  0.5583663 ]\n",
      " [-1.67614951  0.87828572]\n",
      " [-0.21134754 -0.03692729]\n",
      " [ 1.12868887  0.082899  ]\n",
      " [-0.7542952   0.01207813]\n",
      " [-0.57491847  1.2604819 ]\n",
      " [-1.32886731 -0.71974798]]\n"
     ]
    }
   ],
   "source": [
    "hess = np.zeros((d,d))\n",
    "grad = np.zeros(d)\n",
    "print(X)\n",
    "for i in range(10):\n",
    "    x,y = X[i], obs[i]\n",
    "    inner = np.inner(x,theta)\n",
    "    mu = 4 * (inner - y) / (4 * inner ** 2 - 1)\n",
    "    dot_mu = - (4 * (inner ** 2 - 8 * y * inner + 1)) / (1 - 4 * inner ** 2)\n",
    "    grad = grad + mu * x\n",
    "    hess = hess + dot_mu * np.outer(x,x)"
   ]
  },
  {
   "cell_type": "code",
   "execution_count": 76,
   "id": "b2c97994-a8df-4eb2-8db9-6e1c44801e6a",
   "metadata": {
    "execution": {
     "iopub.execute_input": "2023-08-29T01:56:51.296190Z",
     "iopub.status.busy": "2023-08-29T01:56:51.295791Z",
     "iopub.status.idle": "2023-08-29T01:56:51.302051Z",
     "shell.execute_reply": "2023-08-29T01:56:51.301177Z",
     "shell.execute_reply.started": "2023-08-29T01:56:51.296161Z"
    },
    "tags": []
   },
   "outputs": [
    {
     "data": {
      "text/plain": [
       "array([10.99867151, -2.43067609])"
      ]
     },
     "execution_count": 76,
     "metadata": {},
     "output_type": "execute_result"
    }
   ],
   "source": [
    "grad"
   ]
  },
  {
   "cell_type": "code",
   "execution_count": 77,
   "id": "0775f3b2-5e4c-4d56-a4c9-fa55efc8ae90",
   "metadata": {
    "execution": {
     "iopub.execute_input": "2023-08-29T01:56:52.893826Z",
     "iopub.status.busy": "2023-08-29T01:56:52.893439Z",
     "iopub.status.idle": "2023-08-29T01:56:52.899554Z",
     "shell.execute_reply": "2023-08-29T01:56:52.898744Z",
     "shell.execute_reply.started": "2023-08-29T01:56:52.893798Z"
    },
    "tags": []
   },
   "outputs": [
    {
     "data": {
      "text/plain": [
       "array([10.99867151, -2.43067609])"
      ]
     },
     "execution_count": 77,
     "metadata": {},
     "output_type": "execute_result"
    }
   ],
   "source": [
    "reg.get_gradient()"
   ]
  },
  {
   "cell_type": "code",
   "execution_count": 78,
   "id": "02779a71-dd90-4815-a197-af42f8a1c3e1",
   "metadata": {
    "execution": {
     "iopub.execute_input": "2023-08-29T01:56:53.397429Z",
     "iopub.status.busy": "2023-08-29T01:56:53.397049Z",
     "iopub.status.idle": "2023-08-29T01:56:53.403557Z",
     "shell.execute_reply": "2023-08-29T01:56:53.402669Z",
     "shell.execute_reply.started": "2023-08-29T01:56:53.397401Z"
    },
    "tags": []
   },
   "outputs": [
    {
     "data": {
      "text/plain": [
       "array([[-36.336079  ,   9.29360376],\n",
       "       [  9.29360376, -39.1204273 ]])"
      ]
     },
     "execution_count": 78,
     "metadata": {},
     "output_type": "execute_result"
    }
   ],
   "source": [
    "reg.get_hessian()"
   ]
  },
  {
   "cell_type": "code",
   "execution_count": 79,
   "id": "623272c3-9a7b-442a-a074-654f13245e60",
   "metadata": {
    "execution": {
     "iopub.execute_input": "2023-08-29T01:56:54.763495Z",
     "iopub.status.busy": "2023-08-29T01:56:54.762972Z",
     "iopub.status.idle": "2023-08-29T01:56:54.769351Z",
     "shell.execute_reply": "2023-08-29T01:56:54.768556Z",
     "shell.execute_reply.started": "2023-08-29T01:56:54.763460Z"
    },
    "tags": []
   },
   "outputs": [
    {
     "data": {
      "text/plain": [
       "array([[-36.336079  ,   9.29360376],\n",
       "       [  9.29360376, -39.1204273 ]])"
      ]
     },
     "execution_count": 79,
     "metadata": {},
     "output_type": "execute_result"
    }
   ],
   "source": [
    "hess"
   ]
  },
  {
   "cell_type": "code",
   "execution_count": 80,
   "id": "efb3907d-abbb-459c-a9f1-93c943ff8e46",
   "metadata": {
    "execution": {
     "iopub.execute_input": "2023-08-29T01:56:55.735582Z",
     "iopub.status.busy": "2023-08-29T01:56:55.735168Z",
     "iopub.status.idle": "2023-08-29T01:56:55.741736Z",
     "shell.execute_reply": "2023-08-29T01:56:55.740881Z",
     "shell.execute_reply.started": "2023-08-29T01:56:55.735549Z"
    },
    "tags": []
   },
   "outputs": [
    {
     "data": {
      "text/plain": [
       "array([[-1.94666811,  3.32247939],\n",
       "       [-2.2974101 , -1.26192815],\n",
       "       [ 0.25345766, -3.70074672],\n",
       "       [-0.17427266,  1.1167326 ],\n",
       "       [-3.35229902,  1.75657144],\n",
       "       [-0.42269507, -0.07385458],\n",
       "       [ 2.25737774,  0.16579799],\n",
       "       [-1.50859039,  0.02415627],\n",
       "       [-1.14983693,  2.5209638 ],\n",
       "       [-2.65773463, -1.43949595]])"
      ]
     },
     "execution_count": 80,
     "metadata": {},
     "output_type": "execute_result"
    }
   ],
   "source": [
    "X"
   ]
  },
  {
   "cell_type": "code",
   "execution_count": null,
   "id": "c096f12f-e2d6-4f90-9a59-7083e5514154",
   "metadata": {},
   "outputs": [],
   "source": []
  }
 ],
 "metadata": {
  "kernelspec": {
   "display_name": "Python 3 (ipykernel)",
   "language": "python",
   "name": "python3"
  },
  "language_info": {
   "codemirror_mode": {
    "name": "ipython",
    "version": 3
   },
   "file_extension": ".py",
   "mimetype": "text/x-python",
   "name": "python",
   "nbconvert_exporter": "python",
   "pygments_lexer": "ipython3",
   "version": "3.7.12"
  },
  "nflx": {
   "sharing": {
    "created_at": "2023-08-29T00:45:55.923Z",
    "is_private": true
   }
  }
 },
 "nbformat": 4,
 "nbformat_minor": 5
}
