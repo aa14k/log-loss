{
 "cells": [
  {
   "cell_type": "code",
   "execution_count": 10,
   "id": "30f76480-25a8-4d45-af2a-604513f03896",
   "metadata": {
    "execution": {
     "iopub.execute_input": "2023-08-24T21:58:02.106890Z",
     "iopub.status.busy": "2023-08-24T21:58:02.106464Z",
     "iopub.status.idle": "2023-08-24T21:58:02.182554Z",
     "shell.execute_reply": "2023-08-24T21:58:02.181837Z",
     "shell.execute_reply.started": "2023-08-24T21:58:02.106858Z"
    },
    "tags": []
   },
   "outputs": [],
   "source": [
    "import numpy as np\n",
    "from tqdm.notebook import tqdm"
   ]
  },
  {
   "cell_type": "code",
   "execution_count": 96,
   "id": "944108fb-4b91-4fde-b1f7-8e85599bb1e6",
   "metadata": {
    "execution": {
     "iopub.execute_input": "2023-08-24T22:57:56.776189Z",
     "iopub.status.busy": "2023-08-24T22:57:56.775663Z",
     "iopub.status.idle": "2023-08-24T22:57:56.788859Z",
     "shell.execute_reply": "2023-08-24T22:57:56.788069Z",
     "shell.execute_reply.started": "2023-08-24T22:57:56.776153Z"
    },
    "tags": []
   },
   "outputs": [],
   "source": [
    "class Counter_Example(object):\n",
    "    def __init__(self,n):\n",
    "        self.n = n\n",
    "        self.eps = 1 / n\n",
    "\n",
    "        self.mu = pow(2,7) * self.eps\n",
    "        self.nu = np.sqrt(self.eps) / 8\n",
    "\n",
    "        self.f_star = np.zeros((2,2))\n",
    "        self.f_star[0,0] = self.mu\n",
    "        self.f_star[0,1] = self.nu\n",
    "        self.f_star[1,:] = 1/2\n",
    "\n",
    "        self.loss_mean = np.zeros((2,2))\n",
    "        self.loss_mean[0,0] = self.mu\n",
    "        self.loss_mean[0,1] = self.nu\n",
    "        self.loss_mean[1,:] = 1/2\n",
    "\n",
    "        self.f_tilde = np.zeros((2,2))\n",
    "        self.f_tilde[:,1] = self.f_star[:,1]\n",
    "        self.f_tilde[0,0] = np.sqrt(self.eps/16)\n",
    "        self.f_tilde[0,1] = self.nu\n",
    "\n",
    "        self.p = self.eps\n",
    "    \n",
    "    def generate_dataset(self):\n",
    "        c = np.random.uniform(size=self.n)\n",
    "        self.idx = np.where(c < 1 - self.p)\n",
    "        self.idx1 = np.where(c >= 1 - self.p)\n",
    "        l_x1_a1 = np.random.binomial(1,p = self.mu, size = len(self.idx[0]))\n",
    "        l_x2_a1 = np.random.binomial(1,p = 1 / 2, size = len(self.idx1[0]))\n",
    "\n",
    "        self.D = np.zeros((self.n,3))\n",
    "        self.D[self.idx,0] = 0\n",
    "        self.D[self.idx,1] = l_x1_a1\n",
    "        self.D[self.idx,2] = nu\n",
    "\n",
    "        self.D[self.idx1,0] = 1\n",
    "        self.D[self.idx1,1] = l_x2_a1\n",
    "        self.D[self.idx1,2] = 1 / 2\n",
    "    \n",
    "    def least_squares(self):\n",
    "        self.hat_mu1 = np.sum(D[self.idx,1]) / len(self.idx[0])\n",
    "        self.hat_mu2 = np.sum(D[self.idx1,1]) / max(len(self.idx1[0]),0.1)\n",
    "    "
   ]
  },
  {
   "cell_type": "code",
   "execution_count": 99,
   "id": "18afd33b-3f23-46ea-babc-43ddba1df2ce",
   "metadata": {
    "execution": {
     "iopub.execute_input": "2023-08-24T22:58:17.037102Z",
     "iopub.status.busy": "2023-08-24T22:58:17.036595Z",
     "iopub.status.idle": "2023-08-24T22:58:17.042474Z",
     "shell.execute_reply": "2023-08-24T22:58:17.041610Z",
     "shell.execute_reply.started": "2023-08-24T22:58:17.037068Z"
    },
    "tags": []
   },
   "outputs": [],
   "source": [
    "n = int(pow(10,3)*1.5)\n",
    "data = Counter_Example(n)\n",
    "data.generate_dataset()\n",
    "data.least_squares()"
   ]
  },
  {
   "cell_type": "code",
   "execution_count": 103,
   "id": "33a01680-dec1-4ac3-88d4-da1e52b21ee9",
   "metadata": {
    "execution": {
     "iopub.execute_input": "2023-08-24T22:58:33.924225Z",
     "iopub.status.busy": "2023-08-24T22:58:33.923788Z",
     "iopub.status.idle": "2023-08-24T22:58:33.929372Z",
     "shell.execute_reply": "2023-08-24T22:58:33.928640Z",
     "shell.execute_reply.started": "2023-08-24T22:58:33.924193Z"
    },
    "tags": []
   },
   "outputs": [
    {
     "data": {
      "text/plain": [
       "0.0"
      ]
     },
     "execution_count": 103,
     "metadata": {},
     "output_type": "execute_result"
    }
   ],
   "source": [
    "data.hat_mu1\n",
    "data.hat_mu2"
   ]
  },
  {
   "cell_type": "code",
   "execution_count": null,
   "id": "015ef7b5-615a-4b74-899a-e1b9af64a035",
   "metadata": {},
   "outputs": [],
   "source": []
  }
 ],
 "metadata": {
  "kernelspec": {
   "display_name": "Python 3 (ipykernel)",
   "language": "python",
   "name": "python3"
  },
  "language_info": {
   "codemirror_mode": {
    "name": "ipython",
    "version": 3
   },
   "file_extension": ".py",
   "mimetype": "text/x-python",
   "name": "python",
   "nbconvert_exporter": "python",
   "pygments_lexer": "ipython3",
   "version": "3.7.12"
  },
  "nflx": {
   "sharing": {
    "created_at": "2023-08-24T20:59:57.462Z",
    "is_private": true
   }
  }
 },
 "nbformat": 4,
 "nbformat_minor": 5
}
