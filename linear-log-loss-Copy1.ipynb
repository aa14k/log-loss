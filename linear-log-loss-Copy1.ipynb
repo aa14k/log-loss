{
 "cells": [
  {
   "cell_type": "code",
   "execution_count": 4,
   "id": "5b77b2b8-d788-492d-9df3-8d21e6196705",
   "metadata": {
    "execution": {
     "iopub.execute_input": "2023-08-29T01:12:30.774444Z",
     "iopub.status.busy": "2023-08-29T01:12:30.773930Z",
     "iopub.status.idle": "2023-08-29T01:12:30.778626Z",
     "shell.execute_reply": "2023-08-29T01:12:30.777752Z",
     "shell.execute_reply.started": "2023-08-29T01:12:30.774413Z"
    },
    "tags": []
   },
   "outputs": [],
   "source": [
    "import numpy as np\n",
    "from tqdm.notebook import tqdm\n",
    "import cvxpy as cp"
   ]
  },
  {
   "attachments": {},
   "cell_type": "markdown",
   "id": "2626cb78-10d0-401a-8991-cf8ced42c45b",
   "metadata": {
    "execution": {
     "iopub.execute_input": "2023-08-26T03:16:39.245445Z",
     "iopub.status.busy": "2023-08-26T03:16:39.244955Z",
     "iopub.status.idle": "2023-08-26T03:16:39.249123Z",
     "shell.execute_reply": "2023-08-26T03:16:39.248429Z",
     "shell.execute_reply.started": "2023-08-26T03:16:39.245412Z"
    },
    "tags": []
   },
   "source": [
    "# Linear Models with Logarithmic Loss\n",
    "\n",
    "Consider the following protocol: for $t=1,2,...,T$, nature chooses $x_t \\in \\mathbb{R}^d$ in each round, and then reveals a noisy label $y_t \\sim \\text{Ber}(x_t^\\top \\theta^\\star) - 1/2$, where $\\theta^\\star \\in \\mathbb{R}^d$ is the unknown parameter. Our goal is to learn to make accurate predictions given a linear model class and any $x \\in \\mathbb{R}^d$, i.e., to predict $y^\\star(x) = x^\\top \\theta^\\star$. The classical way of learning $\\theta^\\star$ given i.i.d samples of $\\{x_t,y_t\\}_{t=1}^T$ is to perform ridge regression.\n",
    "\n",
    "Ridge regression considers the following estimator and prediction: given $\\{x_t,y_t\\}_{t=1}^T$ compute:\n",
    "\n",
    "$$\n",
    "\\hat\\theta_T := \\arg\\min_{\\theta \\in \\mathbb{R}^d} \\sum_{t=1}^T \\left( x_t^\\top \\theta - y_i\\right)^2 + \n",
    "\\lVert \\theta \\rVert^2\n",
    "$$\n",
    "\n",
    "and set $\\hat y_T(x) := x^\\top \\hat\\theta_T$. This is simply least-sqaures regression with $\\ell_2$ regularization. The estimator and the prediciton can also be solved in closed form. Define $V_t := I + \\sum_{t=1}^T x_t x_t^\\top$, then we have:\n",
    "\n",
    "$$\n",
    "\\hat y_T(x) = x^\\top V_t^{-1} \\sum_{t=1}^T x_t y_t.\n",
    "$$\n",
    "\n",
    "Another way of learning $\\theta^\\star$  given i.i.d samples of $\\{x_t,y_t\\}_{t=1}^T$ is to perform linear regression with the negative logarithmic (cross-entropy) loss. \n",
    "\n",
    "Linear regression with negative logarithmic loss considers the following estimator and prediciton: given $\\{x_t,y_t\\}_{t=1}^T$ compute:\n",
    "\n",
    "$$\n",
    "\\hat\\theta_T := \\arg\\max_{\\theta \\in \\mathbb{R}^d} \\mathcal{L}(\\{x_t,y_t\\}_{t=1}^T;\\theta) = \\arg\\max_{\\theta \\in \\mathbb{R}^d}  \\sum_{t=1}^T y_t \\log(x_t^\\top \\theta) + (1-y_t)\\log(1-x_t^\\top \\theta)\n",
    "$$\n",
    "and set $\\hat y_T(x) := x^\\top \\hat\\theta_T$. The estimaotr and the prediciton cannot be solved in closed form, however the loss function defined above is concave in its argument. Therefore approximate solvers like Newtown's method or Gradient Descent, should be sufficient for finding the $\\theta$ that minimizes the negative logarithmic loss. Taking the first derivative of the loss $\\mathcal{L}$ we get:2*\n",
    "\n",
    "$$\n",
    "\\frac{\\partial}{\\partial \\theta}  \\mathcal{L}(\\{x_t,y_t\\}_{t=1}^T;\\theta) = g_T(\\theta) :=  \\sum_{t=1}^T \\left(\\frac{y_t}{x_t^\\top \\theta} - \\frac{1-y_t}{1-x_t^\\top \\theta}\\right) x_t - 2\\theta.\n",
    "$$\n",
    "\n",
    "Taking the second derivative of $\\mathcal{L}$ gives:\n",
    "\n",
    "$$\n",
    "\\frac{\\partial^2}{\\partial \\theta^2}  \\mathcal{L}(\\{x_t,y_t\\}_{t=1}^T;\\theta)= H_T(\\theta) :=  \\sum_{t=1}^T -\\left(\\frac{y_t}{(x_t^\\top\\theta)^2} + \\frac{1-y_t}{(1-x_t^\\top\\theta)^2}\\right) x_t x_t^\\top - I.\n",
    "$$\n",
    "\n",
    "Notice that we are trying to solve for the zeros of $g_T(\\theta)$. This function has three zeros at $\\theta = \\{-\\infty, \\arg\\max_{\\theta \\in \\mathbb{R}^d} \\mathcal{L}(\\{x_t,y_t\\}_{t=1}^T;\\theta), \\infty\\}$. Therefore, we need to constraint our optimization routine otherwise our estimate of $\\theta$ may diverge.\n",
    "\n",
    "One idea is to use Frank-Wolfe to ensure $\\theta$ does not diverge off to infinity. \n",
    "\n",
    "\n",
    "\n",
    "\n",
    "\n",
    "Thus we can solve:\n",
    "\n",
    "$$\n",
    "\\hat\\theta_T := \\arg\\min_{\\theta \\in \\mathbb{R}^d} - \\mathcal{L}(\\{x_t,y_t\\}_{t=1}^T;\\theta)\n",
    "$$\n",
    "\n",
    "by applying Newton's method for $k=1,2,...,n$, i.e.\n",
    "\n",
    "$$\n",
    "\\theta_{k+1} = \\theta_k - \\left(H_T^{-1}(\\theta_k)\\right)^\\top g_t(\\theta_k).\n",
    "$$\n",
    "\n",
    "where $\\theta_0$ is initialized apprioately, i.e. $\\theta_0 \\sim \\mathcal{N}(0,I)$. Setting $\\hat\\theta_T = \\theta_n$ gives us our estimator and letting $\\hat y_T(x) = x^\\top \\hat\\theta_T$ gives us our predictor. "
   ]
  },
  {
   "cell_type": "code",
   "execution_count": 43,
   "id": "a5337794-edde-42a5-aa65-bbd46f2ce180",
   "metadata": {
    "execution": {
     "iopub.execute_input": "2023-08-29T01:21:57.277697Z",
     "iopub.status.busy": "2023-08-29T01:21:57.277044Z",
     "iopub.status.idle": "2023-08-29T01:21:57.284916Z",
     "shell.execute_reply": "2023-08-29T01:21:57.284054Z",
     "shell.execute_reply.started": "2023-08-29T01:21:57.277656Z"
    },
    "tags": []
   },
   "outputs": [],
   "source": [
    "d = 2\n",
    "num_features = 4\n",
    "theta_star = np.random.uniform(size=d)\n",
    "theta_star = theta_star / (10*np.linalg.norm(theta_star))\n",
    "X = np.random.uniform(size=(num_features,d))\n",
    "for i in range(num_features):\n",
    "    X[i] = X[i] / np.linalg.norm(X[i])\n",
    "X[0] = X[0] / 1000\n",
    "X[1] = X[1] / 900\n",
    "X[2] = X[2] / 800\n",
    "X[3] = X[3] / 700\n"
   ]
  },
  {
   "cell_type": "code",
   "execution_count": 44,
   "id": "798f87db-2ba0-4d13-8b6e-852ba7889312",
   "metadata": {
    "execution": {
     "iopub.execute_input": "2023-08-29T01:21:57.336693Z",
     "iopub.status.busy": "2023-08-29T01:21:57.336073Z",
     "iopub.status.idle": "2023-08-29T01:22:06.439179Z",
     "shell.execute_reply": "2023-08-29T01:22:06.438249Z",
     "shell.execute_reply.started": "2023-08-29T01:21:57.336663Z"
    },
    "tags": []
   },
   "outputs": [
    {
     "data": {
      "application/vnd.jupyter.widget-view+json": {
       "model_id": "866b3eaf0bcc4e6685f8279b142ce6f3",
       "version_major": 2,
       "version_minor": 0
      },
      "text/plain": [
       "  0%|          | 0/1000000 [00:00<?, ?it/s]"
      ]
     },
     "metadata": {},
     "output_type": "display_data"
    }
   ],
   "source": [
    "num_samples = 1000**2\n",
    "features = np.zeros((num_samples,d))\n",
    "tar = np.zeros(num_samples)\n",
    "for i in tqdm(range(num_samples)):\n",
    "    j = i % num_features\n",
    "    feature = X[j]\n",
    "    mean = np.inner(X[j],theta_star)\n",
    "    obs = np.random.binomial(1,p=mean) - 1/2 \n",
    "    features[i] = feature\n",
    "    tar[i] = obs"
   ]
  },
  {
   "cell_type": "code",
   "execution_count": 57,
   "id": "8d7b7b3d-20ab-49b4-9c40-e4f0d58bbe62",
   "metadata": {
    "execution": {
     "iopub.execute_input": "2023-08-29T01:29:56.348266Z",
     "iopub.status.busy": "2023-08-29T01:29:56.347765Z",
     "iopub.status.idle": "2023-08-29T01:29:56.361958Z",
     "shell.execute_reply": "2023-08-29T01:29:56.361132Z",
     "shell.execute_reply.started": "2023-08-29T01:29:56.348233Z"
    },
    "tags": []
   },
   "outputs": [],
   "source": [
    "class LinearLogRegression(object):\n",
    "    def __init__(self, features, obs, d, fw_iters,theta_star,lam_max):\n",
    "        self.features = features\n",
    "        self.obs = obs\n",
    "        self.n = len(obs)\n",
    "        self.fw_iters = fw_iters\n",
    "        self.d = d\n",
    "        self.theta_star = theta_star\n",
    "        self.t = 1 / (4 * lam_max)\n",
    "    \n",
    "    \n",
    "    def get_gradient(self):\n",
    "        grad = np.zeros(self.d)\n",
    "        inner = np.dot(self.features,self.theta)\n",
    "        mu = np.zeros((self.n,self.d))\n",
    "        \n",
    "        mu[:,0] = -4 * (inner - self.obs) / (4 * inner ** 2 - 1)\n",
    "        for i in range(1,self.d):\n",
    "            mu[:,i] = mu[:,0]\n",
    "        mult = np.multiply(mu,self.features)\n",
    "        grad = np.sum(mult,axis=0)\n",
    "        \n",
    "        return grad\n",
    "    \n",
    "    def frank_wolfe(self):\n",
    "        self.theta = np.zeros(self.d) + 1/self.d\n",
    "        for k in tqdm(range(self.fw_iters)):\n",
    "            grad = self.get_gradient()\n",
    "            norm = np.linalg.norm(grad)\n",
    "            if norm != 0:\n",
    "                s = - grad / (np.linalg.norm(grad)) * self.t \n",
    "            else:\n",
    "                s = np.zeros(self.d)\n",
    "            dt = s - self.theta\n",
    "            gamma = np.inner(dt,grad) / (400 * np.linalg.norm(dt)**2)\n",
    "            alpha = min(gamma,1)\n",
    "            self.theta = self.theta + alpha * (s + self.theta)\n",
    "            if k % 1000 == 999:\n",
    "                print('Log Loss:' , np.linalg.norm(self.theta - self.theta_star))\n",
    "        \n",
    "            \n",
    "    \n",
    "    \n",
    "    def Least_Squares(self):\n",
    "        A = np.zeros((self.d,self.d))\n",
    "        b = np.zeros(self.d)\n",
    "        for i in range(self.n):\n",
    "            x = self.features[i]\n",
    "            y = self.obs[i] + 1 / 2\n",
    "            A = A + np.outer(x,x)\n",
    "            b = b + y * x\n",
    "        self.theta_ls = np.linalg.solve(A,b)\n",
    "        print('Least Squares:' , np.linalg.norm(self.theta_ls - self.theta_star))\n",
    "    \n",
    "            \n",
    "        \n",
    "        "
   ]
  },
  {
   "cell_type": "code",
   "execution_count": 58,
   "id": "3df8e6be-ffc6-4055-91af-8b6cbc0ff584",
   "metadata": {
    "execution": {
     "iopub.execute_input": "2023-08-29T01:29:56.421837Z",
     "iopub.status.busy": "2023-08-29T01:29:56.421358Z",
     "iopub.status.idle": "2023-08-29T01:29:59.536722Z",
     "shell.execute_reply": "2023-08-29T01:29:59.535044Z",
     "shell.execute_reply.started": "2023-08-29T01:29:56.421811Z"
    },
    "tags": []
   },
   "outputs": [
    {
     "name": "stdout",
     "output_type": "stream",
     "text": [
      "Least Squares: 0.051004004779794984\n",
      "[1.14201934e-04 1.31492634e-04 7.24820315e-05 3.19138331e-05]\n"
     ]
    },
    {
     "data": {
      "application/vnd.jupyter.widget-view+json": {
       "model_id": "5c355693d4054611b88d951d345ddacd",
       "version_major": 2,
       "version_minor": 0
      },
      "text/plain": [
       "  0%|          | 0/50000 [00:00<?, ?it/s]"
      ]
     },
     "metadata": {},
     "output_type": "display_data"
    },
    {
     "ename": "KeyboardInterrupt",
     "evalue": "",
     "output_type": "error",
     "traceback": [
      "\u001b[0;31m---------------------------------------------------------------------------\u001b[0m",
      "\u001b[0;31mKeyboardInterrupt\u001b[0m                         Traceback (most recent call last)",
      "\u001b[0;32m/tmp/ipykernel_64511/3744742418.py\u001b[0m in \u001b[0;36m<module>\u001b[0;34m\u001b[0m\n\u001b[1;32m      4\u001b[0m \u001b[0mreg\u001b[0m\u001b[0;34m.\u001b[0m\u001b[0mLeast_Squares\u001b[0m\u001b[0;34m(\u001b[0m\u001b[0;34m)\u001b[0m\u001b[0;34m\u001b[0m\u001b[0;34m\u001b[0m\u001b[0m\n\u001b[1;32m      5\u001b[0m \u001b[0mprint\u001b[0m\u001b[0;34m(\u001b[0m\u001b[0mnp\u001b[0m\u001b[0;34m.\u001b[0m\u001b[0mdot\u001b[0m\u001b[0;34m(\u001b[0m\u001b[0mX\u001b[0m\u001b[0;34m,\u001b[0m\u001b[0mreg\u001b[0m\u001b[0;34m.\u001b[0m\u001b[0mtheta_ls\u001b[0m\u001b[0;34m)\u001b[0m\u001b[0;34m)\u001b[0m\u001b[0;34m\u001b[0m\u001b[0;34m\u001b[0m\u001b[0m\n\u001b[0;32m----> 6\u001b[0;31m \u001b[0mreg\u001b[0m\u001b[0;34m.\u001b[0m\u001b[0mfrank_wolfe\u001b[0m\u001b[0;34m(\u001b[0m\u001b[0;34m)\u001b[0m\u001b[0;34m\u001b[0m\u001b[0;34m\u001b[0m\u001b[0m\n\u001b[0m",
      "\u001b[0;32m/tmp/ipykernel_64511/2406071155.py\u001b[0m in \u001b[0;36mfrank_wolfe\u001b[0;34m(self)\u001b[0m\n\u001b[1;32m     26\u001b[0m         \u001b[0mself\u001b[0m\u001b[0;34m.\u001b[0m\u001b[0mtheta\u001b[0m \u001b[0;34m=\u001b[0m \u001b[0mnp\u001b[0m\u001b[0;34m.\u001b[0m\u001b[0mzeros\u001b[0m\u001b[0;34m(\u001b[0m\u001b[0mself\u001b[0m\u001b[0;34m.\u001b[0m\u001b[0md\u001b[0m\u001b[0;34m)\u001b[0m \u001b[0;34m+\u001b[0m \u001b[0;36m1\u001b[0m\u001b[0;34m/\u001b[0m\u001b[0mself\u001b[0m\u001b[0;34m.\u001b[0m\u001b[0md\u001b[0m\u001b[0;34m\u001b[0m\u001b[0;34m\u001b[0m\u001b[0m\n\u001b[1;32m     27\u001b[0m         \u001b[0;32mfor\u001b[0m \u001b[0mk\u001b[0m \u001b[0;32min\u001b[0m \u001b[0mtqdm\u001b[0m\u001b[0;34m(\u001b[0m\u001b[0mrange\u001b[0m\u001b[0;34m(\u001b[0m\u001b[0mself\u001b[0m\u001b[0;34m.\u001b[0m\u001b[0mfw_iters\u001b[0m\u001b[0;34m)\u001b[0m\u001b[0;34m)\u001b[0m\u001b[0;34m:\u001b[0m\u001b[0;34m\u001b[0m\u001b[0;34m\u001b[0m\u001b[0m\n\u001b[0;32m---> 28\u001b[0;31m             \u001b[0mgrad\u001b[0m \u001b[0;34m=\u001b[0m \u001b[0mself\u001b[0m\u001b[0;34m.\u001b[0m\u001b[0mget_gradient\u001b[0m\u001b[0;34m(\u001b[0m\u001b[0;34m)\u001b[0m\u001b[0;34m\u001b[0m\u001b[0;34m\u001b[0m\u001b[0m\n\u001b[0m\u001b[1;32m     29\u001b[0m             \u001b[0mnorm\u001b[0m \u001b[0;34m=\u001b[0m \u001b[0mnp\u001b[0m\u001b[0;34m.\u001b[0m\u001b[0mlinalg\u001b[0m\u001b[0;34m.\u001b[0m\u001b[0mnorm\u001b[0m\u001b[0;34m(\u001b[0m\u001b[0mgrad\u001b[0m\u001b[0;34m)\u001b[0m\u001b[0;34m\u001b[0m\u001b[0;34m\u001b[0m\u001b[0m\n\u001b[1;32m     30\u001b[0m             \u001b[0;32mif\u001b[0m \u001b[0mnorm\u001b[0m \u001b[0;34m!=\u001b[0m \u001b[0;36m0\u001b[0m\u001b[0;34m:\u001b[0m\u001b[0;34m\u001b[0m\u001b[0;34m\u001b[0m\u001b[0m\n",
      "\u001b[0;32m/tmp/ipykernel_64511/2406071155.py\u001b[0m in \u001b[0;36mget_gradient\u001b[0;34m(self)\u001b[0m\n\u001b[1;32m     15\u001b[0m         \u001b[0mmu\u001b[0m \u001b[0;34m=\u001b[0m \u001b[0mnp\u001b[0m\u001b[0;34m.\u001b[0m\u001b[0mzeros\u001b[0m\u001b[0;34m(\u001b[0m\u001b[0;34m(\u001b[0m\u001b[0mself\u001b[0m\u001b[0;34m.\u001b[0m\u001b[0mn\u001b[0m\u001b[0;34m,\u001b[0m\u001b[0mself\u001b[0m\u001b[0;34m.\u001b[0m\u001b[0md\u001b[0m\u001b[0;34m)\u001b[0m\u001b[0;34m)\u001b[0m\u001b[0;34m\u001b[0m\u001b[0;34m\u001b[0m\u001b[0m\n\u001b[1;32m     16\u001b[0m \u001b[0;34m\u001b[0m\u001b[0m\n\u001b[0;32m---> 17\u001b[0;31m         \u001b[0mmu\u001b[0m\u001b[0;34m[\u001b[0m\u001b[0;34m:\u001b[0m\u001b[0;34m,\u001b[0m\u001b[0;36m0\u001b[0m\u001b[0;34m]\u001b[0m \u001b[0;34m=\u001b[0m \u001b[0;34m-\u001b[0m\u001b[0;36m4\u001b[0m \u001b[0;34m*\u001b[0m \u001b[0;34m(\u001b[0m\u001b[0minner\u001b[0m \u001b[0;34m-\u001b[0m \u001b[0mself\u001b[0m\u001b[0;34m.\u001b[0m\u001b[0mobs\u001b[0m\u001b[0;34m)\u001b[0m \u001b[0;34m/\u001b[0m \u001b[0;34m(\u001b[0m\u001b[0;36m4\u001b[0m \u001b[0;34m*\u001b[0m \u001b[0minner\u001b[0m \u001b[0;34m**\u001b[0m \u001b[0;36m2\u001b[0m \u001b[0;34m-\u001b[0m \u001b[0;36m1\u001b[0m\u001b[0;34m)\u001b[0m\u001b[0;34m\u001b[0m\u001b[0;34m\u001b[0m\u001b[0m\n\u001b[0m\u001b[1;32m     18\u001b[0m         \u001b[0;32mfor\u001b[0m \u001b[0mi\u001b[0m \u001b[0;32min\u001b[0m \u001b[0mrange\u001b[0m\u001b[0;34m(\u001b[0m\u001b[0;36m1\u001b[0m\u001b[0;34m,\u001b[0m\u001b[0mself\u001b[0m\u001b[0;34m.\u001b[0m\u001b[0md\u001b[0m\u001b[0;34m)\u001b[0m\u001b[0;34m:\u001b[0m\u001b[0;34m\u001b[0m\u001b[0;34m\u001b[0m\u001b[0m\n\u001b[1;32m     19\u001b[0m             \u001b[0mmu\u001b[0m\u001b[0;34m[\u001b[0m\u001b[0;34m:\u001b[0m\u001b[0;34m,\u001b[0m\u001b[0mi\u001b[0m\u001b[0;34m]\u001b[0m \u001b[0;34m=\u001b[0m \u001b[0mmu\u001b[0m\u001b[0;34m[\u001b[0m\u001b[0;34m:\u001b[0m\u001b[0;34m,\u001b[0m\u001b[0;36m0\u001b[0m\u001b[0;34m]\u001b[0m\u001b[0;34m\u001b[0m\u001b[0;34m\u001b[0m\u001b[0m\n",
      "\u001b[0;31mKeyboardInterrupt\u001b[0m: "
     ]
    }
   ],
   "source": [
    "num_data = 100000\n",
    "eigs = np.linalg.eigvals(np.dot(X.T,X))\n",
    "reg = LinearLogRegression(features[:num_data],tar[:num_data],d,50000,theta_star,1)\n",
    "reg.Least_Squares()\n",
    "print(np.dot(X,reg.theta_ls))\n",
    "reg.frank_wolfe()"
   ]
  },
  {
   "cell_type": "code",
   "execution_count": 47,
   "id": "f3af9a61-b281-462c-8905-97efcd14d264",
   "metadata": {
    "execution": {
     "iopub.execute_input": "2023-08-29T01:22:32.807275Z",
     "iopub.status.busy": "2023-08-29T01:22:32.806598Z",
     "iopub.status.idle": "2023-08-29T01:22:32.814055Z",
     "shell.execute_reply": "2023-08-29T01:22:32.813145Z",
     "shell.execute_reply.started": "2023-08-29T01:22:32.807236Z"
    },
    "tags": []
   },
   "outputs": [
    {
     "data": {
      "text/plain": [
       "array([0.14600185, 0.20293708])"
      ]
     },
     "execution_count": 47,
     "metadata": {},
     "output_type": "execute_result"
    }
   ],
   "source": [
    "reg.theta"
   ]
  },
  {
   "cell_type": "code",
   "execution_count": 48,
   "id": "ee28359b-2f4e-4c4a-9fa9-fcf6f4e43426",
   "metadata": {
    "execution": {
     "iopub.execute_input": "2023-08-29T01:22:34.150764Z",
     "iopub.status.busy": "2023-08-29T01:22:34.149710Z",
     "iopub.status.idle": "2023-08-29T01:22:34.156335Z",
     "shell.execute_reply": "2023-08-29T01:22:34.155535Z",
     "shell.execute_reply.started": "2023-08-29T01:22:34.150727Z"
    },
    "tags": []
   },
   "outputs": [
    {
     "data": {
      "text/plain": [
       "array([0.11812182, 0.01871451])"
      ]
     },
     "execution_count": 48,
     "metadata": {},
     "output_type": "execute_result"
    }
   ],
   "source": [
    "reg.theta_ls"
   ]
  },
  {
   "cell_type": "code",
   "execution_count": 49,
   "id": "9544e402-a7c3-49f0-93be-e4d594d4750a",
   "metadata": {
    "execution": {
     "iopub.execute_input": "2023-08-29T01:22:36.648197Z",
     "iopub.status.busy": "2023-08-29T01:22:36.647283Z",
     "iopub.status.idle": "2023-08-29T01:22:36.654771Z",
     "shell.execute_reply": "2023-08-29T01:22:36.653836Z",
     "shell.execute_reply.started": "2023-08-29T01:22:36.648156Z"
    },
    "tags": []
   },
   "outputs": [
    {
     "data": {
      "text/plain": [
       "array([9.91230135e-05, 1.06497475e-04, 1.00958322e-04, 8.32247336e-05])"
      ]
     },
     "execution_count": 49,
     "metadata": {},
     "output_type": "execute_result"
    }
   ],
   "source": [
    "np.dot(X,theta_star)"
   ]
  },
  {
   "cell_type": "code",
   "execution_count": 50,
   "id": "c1324a8e-5171-4597-bced-4d5e62be8dc5",
   "metadata": {
    "execution": {
     "iopub.execute_input": "2023-08-29T01:22:39.323022Z",
     "iopub.status.busy": "2023-08-29T01:22:39.322113Z",
     "iopub.status.idle": "2023-08-29T01:22:39.329558Z",
     "shell.execute_reply": "2023-08-29T01:22:39.328713Z",
     "shell.execute_reply.started": "2023-08-29T01:22:39.322982Z"
    },
    "tags": []
   },
   "outputs": [
    {
     "data": {
      "text/plain": [
       "array([0.00022075, 0.00022194, 0.00030079, 0.00029619])"
      ]
     },
     "execution_count": 50,
     "metadata": {},
     "output_type": "execute_result"
    }
   ],
   "source": [
    "np.dot(X,reg.theta)"
   ]
  },
  {
   "cell_type": "code",
   "execution_count": 30,
   "id": "56842140-bdb8-4422-82c3-c4808dd905b1",
   "metadata": {
    "execution": {
     "iopub.execute_input": "2023-08-29T01:18:46.449333Z",
     "iopub.status.busy": "2023-08-29T01:18:46.448582Z",
     "iopub.status.idle": "2023-08-29T01:18:46.455175Z",
     "shell.execute_reply": "2023-08-29T01:18:46.454407Z",
     "shell.execute_reply.started": "2023-08-29T01:18:46.449296Z"
    },
    "tags": []
   },
   "outputs": [
    {
     "data": {
      "text/plain": [
       "array([[1.96463584e-06, 2.51572850e-06],\n",
       "       [2.51572850e-06, 3.87324839e-06]])"
      ]
     },
     "execution_count": 30,
     "metadata": {},
     "output_type": "execute_result"
    }
   ],
   "source": [
    "np.dot(X.T,X)"
   ]
  },
  {
   "cell_type": "code",
   "execution_count": 7,
   "id": "a3a1d58a-91f2-4c7c-8949-b4bcc1713a57",
   "metadata": {
    "execution": {
     "iopub.execute_input": "2023-08-29T00:04:03.324912Z",
     "iopub.status.busy": "2023-08-29T00:04:03.324204Z",
     "iopub.status.idle": "2023-08-29T00:04:03.329851Z",
     "shell.execute_reply": "2023-08-29T00:04:03.328884Z",
     "shell.execute_reply.started": "2023-08-29T00:04:03.324873Z"
    },
    "tags": []
   },
   "outputs": [],
   "source": [
    "num_data = 50000\n",
    "x,y = features[:num_data],tar[:num_data]"
   ]
  },
  {
   "cell_type": "code",
   "execution_count": 21,
   "id": "a109d02a-c1f3-419a-ac1b-d9c5f97571c0",
   "metadata": {
    "execution": {
     "iopub.execute_input": "2023-08-29T00:11:37.951701Z",
     "iopub.status.busy": "2023-08-29T00:11:37.951051Z",
     "iopub.status.idle": "2023-08-29T00:11:37.960800Z",
     "shell.execute_reply": "2023-08-29T00:11:37.959553Z",
     "shell.execute_reply.started": "2023-08-29T00:11:37.951651Z"
    },
    "tags": []
   },
   "outputs": [],
   "source": [
    "inner = np.dot(x,theta_star)\n",
    "mu = np.zeros((num_data,2))\n",
    "mu[:,0] = -4 * (inner - y) / (4 * inner ** 2 - 1)\n",
    "mu[:,1] = -4 * (inner - y) / (4 * inner ** 2 - 1)"
   ]
  },
  {
   "cell_type": "code",
   "execution_count": 24,
   "id": "3ba9c219-cbcb-4ce1-a57f-fef0a6ad146f",
   "metadata": {
    "execution": {
     "iopub.execute_input": "2023-08-29T00:12:08.125297Z",
     "iopub.status.busy": "2023-08-29T00:12:08.124662Z",
     "iopub.status.idle": "2023-08-29T00:12:08.130411Z",
     "shell.execute_reply": "2023-08-29T00:12:08.129574Z",
     "shell.execute_reply.started": "2023-08-29T00:12:08.125251Z"
    },
    "tags": []
   },
   "outputs": [],
   "source": [
    "v = np.multiply(mu,x)"
   ]
  },
  {
   "cell_type": "code",
   "execution_count": 25,
   "id": "b76797bb-305a-4d8e-af29-a5603dbc40cb",
   "metadata": {
    "execution": {
     "iopub.execute_input": "2023-08-29T00:12:11.439053Z",
     "iopub.status.busy": "2023-08-29T00:12:11.438438Z",
     "iopub.status.idle": "2023-08-29T00:12:11.445297Z",
     "shell.execute_reply": "2023-08-29T00:12:11.444503Z",
     "shell.execute_reply.started": "2023-08-29T00:12:11.439010Z"
    },
    "tags": []
   },
   "outputs": [
    {
     "data": {
      "text/plain": [
       "(50000, 2)"
      ]
     },
     "execution_count": 25,
     "metadata": {},
     "output_type": "execute_result"
    }
   ],
   "source": [
    "np.shape(v)"
   ]
  },
  {
   "cell_type": "code",
   "execution_count": 28,
   "id": "a0f3c2b3-e556-4a3d-991f-4d0bdb4fa7f6",
   "metadata": {
    "execution": {
     "iopub.execute_input": "2023-08-29T00:13:25.922720Z",
     "iopub.status.busy": "2023-08-29T00:13:25.922085Z",
     "iopub.status.idle": "2023-08-29T00:13:25.930183Z",
     "shell.execute_reply": "2023-08-29T00:13:25.929304Z",
     "shell.execute_reply.started": "2023-08-29T00:13:25.922674Z"
    },
    "tags": []
   },
   "outputs": [
    {
     "data": {
      "text/plain": [
       "array([0.00225153, 0.00314318, 0.00297006, ..., 0.00314318, 0.00297006,\n",
       "       0.00403398])"
      ]
     },
     "execution_count": 28,
     "metadata": {},
     "output_type": "execute_result"
    }
   ],
   "source": [
    "np.sum(v,axis=1)"
   ]
  },
  {
   "cell_type": "code",
   "execution_count": null,
   "id": "5093da90-6b70-4de7-9e0c-52ee3e1d7a90",
   "metadata": {},
   "outputs": [],
   "source": []
  }
 ],
 "metadata": {
  "kernelspec": {
   "display_name": "Python 3 (ipykernel)",
   "language": "python",
   "name": "python3"
  },
  "language_info": {
   "codemirror_mode": {
    "name": "ipython",
    "version": 3
   },
   "file_extension": ".py",
   "mimetype": "text/x-python",
   "name": "python",
   "nbconvert_exporter": "python",
   "pygments_lexer": "ipython3",
   "version": "3.7.12"
  },
  "nflx": {
   "sharing": {
    "created_at": "2023-08-26T03:11:28.333Z",
    "is_private": true
   }
  }
 },
 "nbformat": 4,
 "nbformat_minor": 5
}
