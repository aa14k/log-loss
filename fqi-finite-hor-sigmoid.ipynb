{
 "cells": [
  {
   "cell_type": "code",
   "execution_count": 44,
   "id": "e5d70ef0-9d77-493b-a0c9-fc9268a34732",
   "metadata": {
    "execution": {
     "iopub.execute_input": "2023-08-30T17:56:01.601618Z",
     "iopub.status.busy": "2023-08-30T17:56:01.601109Z",
     "iopub.status.idle": "2023-08-30T17:56:01.895359Z",
     "shell.execute_reply": "2023-08-30T17:56:01.894497Z",
     "shell.execute_reply.started": "2023-08-30T17:56:01.601584Z"
    },
    "tags": []
   },
   "outputs": [],
   "source": [
    "from environments import MountainCar\n",
    "from features import LinearFeatureMap\n",
    "import numpy as np\n",
    "from tqdm.notebook import tqdm\n",
    "from sklearn.linear_model import LogisticRegression"
   ]
  },
  {
   "cell_type": "code",
   "execution_count": 2,
   "id": "66a425a2-2c74-4aca-9b23-460f32032be2",
   "metadata": {
    "execution": {
     "iopub.execute_input": "2023-08-30T17:37:51.082916Z",
     "iopub.status.busy": "2023-08-30T17:37:51.082660Z",
     "iopub.status.idle": "2023-08-30T17:37:51.194669Z",
     "shell.execute_reply": "2023-08-30T17:37:51.193798Z",
     "shell.execute_reply.started": "2023-08-30T17:37:51.082890Z"
    },
    "tags": []
   },
   "outputs": [],
   "source": [
    "#tuples = np.load('mc_data.npy',allow_pickle = True)"
   ]
  },
  {
   "cell_type": "code",
   "execution_count": 58,
   "id": "51f91b26-af4b-45ee-846b-561f1e9e1c70",
   "metadata": {
    "execution": {
     "iopub.execute_input": "2023-08-30T18:05:34.004634Z",
     "iopub.status.busy": "2023-08-30T18:05:34.004101Z",
     "iopub.status.idle": "2023-08-30T18:05:34.144259Z",
     "shell.execute_reply": "2023-08-30T18:05:34.143497Z",
     "shell.execute_reply.started": "2023-08-30T18:05:34.004604Z"
    },
    "tags": []
   },
   "outputs": [
    {
     "data": {
      "application/vnd.jupyter.widget-view+json": {
       "model_id": "31d0ad20e48045028ebb238305d10c48",
       "version_major": 2,
       "version_minor": 0
      },
      "text/plain": [
       "  0%|          | 0/150 [00:00<?, ?it/s]"
      ]
     },
     "metadata": {},
     "output_type": "display_data"
    }
   ],
   "source": [
    "H = 150\n",
    "num_trials = 10000\n",
    "env = MountainCar(H)\n",
    "\n",
    "s = np.zeros((2,num_trials))\n",
    "s[0,:] = np.random.uniform(low = -1.2,high = 0.1,size = num_trials)\n",
    "env.reset()\n",
    "tuples = []\n",
    "\n",
    "for h in tqdm(range(H)):\n",
    "    a = np.random.choice([-1,0,1],size=num_trials)\n",
    "    cost, s_ = env.step_broadcast(s, a, num_trials)\n",
    "    tuples.append([s,a+1,cost,s_,h])\n",
    "    s = s_\n"
   ]
  },
  {
   "cell_type": "code",
   "execution_count": 59,
   "id": "694ad64e-2585-43e3-b2e5-542244ad0754",
   "metadata": {
    "execution": {
     "iopub.execute_input": "2023-08-30T18:05:34.204227Z",
     "iopub.status.busy": "2023-08-30T18:05:34.203867Z",
     "iopub.status.idle": "2023-08-30T18:05:34.368788Z",
     "shell.execute_reply": "2023-08-30T18:05:34.367962Z",
     "shell.execute_reply.started": "2023-08-30T18:05:34.204199Z"
    },
    "tags": []
   },
   "outputs": [],
   "source": [
    "class FittedQIteration(object):\n",
    "    def __init__(self,phi,features,data,horizon, num_trials,k):\n",
    "        self.phi = phi\n",
    "        self.features = features\n",
    "        self.data = data\n",
    "        self.H = horizon\n",
    "        self.n = num_trials\n",
    "        self.k = k\n",
    "        self.d = len(self.get_phi(np.array([0,0])))\n",
    "        self.theta_ = np.zeros((self.H,3,self.d)) \n",
    "        self.theta = np.zeros((self.H,3,self.d))\n",
    "        self.A = np.zeros((self.H, 3, self.n, self.d))\n",
    "        #self.get_A()\n",
    "        \n",
    "    \n",
    "    def get_phi(self,state):\n",
    "        if self.features == 'poly':\n",
    "            return self.phi.polynomial_basis(state)\n",
    "        elif self.features == 'fourier':\n",
    "            phi = self.phi.fourier_basis(state)\n",
    "            return phi[:,0]\n",
    "        \n",
    "    \n",
    "    def get_A(self):\n",
    "        print('Getting A')\n",
    "        data = self.data.copy()\n",
    "        for h in tqdm(range(self.H - 1, -1, -1)):\n",
    "            s,a = data[h][0], data[h][1]\n",
    "            for i in range(len(a)):\n",
    "                phi = self.get_phi(s[:,i])\n",
    "                self.A[h,int(a[i]),i] = phi\n",
    "    \n",
    "    \n",
    "    def get_targets(self):\n",
    "        data = self.data.copy()\n",
    "        self.tar = np.zeros((self.H,3,self.n))\n",
    "        for h in range(self.H - 1, -1, -1):\n",
    "            a, c, s_ = data[h][1], data[h][2], data[h][3]\n",
    "            for i in range(len(a)):\n",
    "                if h != self.H - 1:\n",
    "                    phi_ = self.get_phi(s_[:,i])\n",
    "                    q = np.zeros(3)\n",
    "                    for a_ in range(3):\n",
    "                        inner = np.inner(phi_, self.theta_[h+1,a_])\n",
    "                        q[a_] = 1 / (1 + np.exp(-inner))\n",
    "                    v = np.min(q)\n",
    "                    self.tar[h,int(a[i]),i] = np.random.binomial(1,p=max(0,min((c[i] + v),1))) \n",
    "                else:\n",
    "                    self.tar[h,int(a[i]),i] = c[i]\n",
    "        \n",
    "     \n",
    "    def minimize_log(self):\n",
    "        for h in tqdm(range(self.H-1,-1,-1)):\n",
    "            for a in range(3):\n",
    "                self.clf = LogisticRegression(tol = pow(10,-8), random_state = 0).fit(self.A[h,a], self.tar[h,a])\n",
    "                self.theta[h,a] = np.array(self.clf.coef_)\n",
    "            \n",
    "    \n",
    "    def update_Q(self):\n",
    "        self.get_targets()\n",
    "        self.minimize_log()\n",
    "        self.theta_ = self.theta\n",
    "        \n",
    "    \n",
    "    \n",
    "    def run(self):\n",
    "        self.get_A()\n",
    "        print('Running')\n",
    "        for t in tqdm(range(self.k)):\n",
    "            self.update_Q()\n",
    "            q = np.zeros(3)\n",
    "            s = np.array([0.5,0])\n",
    "            phi = self.get_phi(s)\n",
    "            for a in range(3):\n",
    "                q[a] = 1 / (1 + np.exp(-np.inner(phi,self.theta[0,a])))\n",
    "            print(q)\n",
    "        "
   ]
  },
  {
   "cell_type": "code",
   "execution_count": 60,
   "id": "3f06b6af-ba06-42fc-88a1-108b0f883733",
   "metadata": {
    "execution": {
     "iopub.execute_input": "2023-08-30T18:05:35.669873Z",
     "iopub.status.busy": "2023-08-30T18:05:35.668945Z",
     "iopub.status.idle": "2023-08-30T18:06:29.184092Z",
     "shell.execute_reply": "2023-08-30T18:06:29.182883Z",
     "shell.execute_reply.started": "2023-08-30T18:05:35.669842Z"
    },
    "tags": []
   },
   "outputs": [
    {
     "name": "stdout",
     "output_type": "stream",
     "text": [
      "1000\n",
      "Getting A\n"
     ]
    },
    {
     "data": {
      "application/vnd.jupyter.widget-view+json": {
       "model_id": "179e3d50abca4d88af65211e60ee44fd",
       "version_major": 2,
       "version_minor": 0
      },
      "text/plain": [
       "  0%|          | 0/150 [00:00<?, ?it/s]"
      ]
     },
     "metadata": {},
     "output_type": "display_data"
    },
    {
     "name": "stdout",
     "output_type": "stream",
     "text": [
      "Running\n"
     ]
    },
    {
     "data": {
      "application/vnd.jupyter.widget-view+json": {
       "model_id": "ca0cd935580b4bc78abd34cedd5ae9c5",
       "version_major": 2,
       "version_minor": 0
      },
      "text/plain": [
       "  0%|          | 0/10 [00:00<?, ?it/s]"
      ]
     },
     "metadata": {},
     "output_type": "display_data"
    },
    {
     "ename": "KeyboardInterrupt",
     "evalue": "",
     "output_type": "error",
     "traceback": [
      "\u001b[0;31m---------------------------------------------------------------------------\u001b[0m",
      "\u001b[0;31mKeyboardInterrupt\u001b[0m                         Traceback (most recent call last)",
      "\u001b[0;32m/tmp/ipykernel_28026/3447507075.py\u001b[0m in \u001b[0;36m<module>\u001b[0;34m\u001b[0m\n\u001b[1;32m      7\u001b[0m     \u001b[0mprint\u001b[0m\u001b[0;34m(\u001b[0m\u001b[0mi\u001b[0m\u001b[0;34m)\u001b[0m\u001b[0;34m\u001b[0m\u001b[0;34m\u001b[0m\u001b[0m\n\u001b[1;32m      8\u001b[0m     \u001b[0magent\u001b[0m \u001b[0;34m=\u001b[0m \u001b[0mFittedQIteration\u001b[0m\u001b[0;34m(\u001b[0m\u001b[0mphi\u001b[0m\u001b[0;34m,\u001b[0m\u001b[0mfeatures\u001b[0m\u001b[0;34m,\u001b[0m\u001b[0mtuples\u001b[0m\u001b[0;34m,\u001b[0m\u001b[0mH\u001b[0m\u001b[0;34m,\u001b[0m\u001b[0mnum_trials\u001b[0m\u001b[0;34m,\u001b[0m\u001b[0;36m10\u001b[0m\u001b[0;34m)\u001b[0m\u001b[0;34m\u001b[0m\u001b[0;34m\u001b[0m\u001b[0m\n\u001b[0;32m----> 9\u001b[0;31m     \u001b[0magent\u001b[0m\u001b[0;34m.\u001b[0m\u001b[0mrun\u001b[0m\u001b[0;34m(\u001b[0m\u001b[0;34m)\u001b[0m\u001b[0;34m\u001b[0m\u001b[0;34m\u001b[0m\u001b[0m\n\u001b[0m",
      "\u001b[0;32m/tmp/ipykernel_28026/3849320474.py\u001b[0m in \u001b[0;36mrun\u001b[0;34m(self)\u001b[0m\n\u001b[1;32m     69\u001b[0m         \u001b[0mprint\u001b[0m\u001b[0;34m(\u001b[0m\u001b[0;34m'Running'\u001b[0m\u001b[0;34m)\u001b[0m\u001b[0;34m\u001b[0m\u001b[0;34m\u001b[0m\u001b[0m\n\u001b[1;32m     70\u001b[0m         \u001b[0;32mfor\u001b[0m \u001b[0mt\u001b[0m \u001b[0;32min\u001b[0m \u001b[0mtqdm\u001b[0m\u001b[0;34m(\u001b[0m\u001b[0mrange\u001b[0m\u001b[0;34m(\u001b[0m\u001b[0mself\u001b[0m\u001b[0;34m.\u001b[0m\u001b[0mk\u001b[0m\u001b[0;34m)\u001b[0m\u001b[0;34m)\u001b[0m\u001b[0;34m:\u001b[0m\u001b[0;34m\u001b[0m\u001b[0;34m\u001b[0m\u001b[0m\n\u001b[0;32m---> 71\u001b[0;31m             \u001b[0mself\u001b[0m\u001b[0;34m.\u001b[0m\u001b[0mupdate_Q\u001b[0m\u001b[0;34m(\u001b[0m\u001b[0;34m)\u001b[0m\u001b[0;34m\u001b[0m\u001b[0;34m\u001b[0m\u001b[0m\n\u001b[0m\u001b[1;32m     72\u001b[0m             \u001b[0mq\u001b[0m \u001b[0;34m=\u001b[0m \u001b[0mnp\u001b[0m\u001b[0;34m.\u001b[0m\u001b[0mzeros\u001b[0m\u001b[0;34m(\u001b[0m\u001b[0;36m3\u001b[0m\u001b[0;34m)\u001b[0m\u001b[0;34m\u001b[0m\u001b[0;34m\u001b[0m\u001b[0m\n\u001b[1;32m     73\u001b[0m             \u001b[0ms\u001b[0m \u001b[0;34m=\u001b[0m \u001b[0mnp\u001b[0m\u001b[0;34m.\u001b[0m\u001b[0marray\u001b[0m\u001b[0;34m(\u001b[0m\u001b[0;34m[\u001b[0m\u001b[0;36m0.5\u001b[0m\u001b[0;34m,\u001b[0m\u001b[0;36m0\u001b[0m\u001b[0;34m]\u001b[0m\u001b[0;34m)\u001b[0m\u001b[0;34m\u001b[0m\u001b[0;34m\u001b[0m\u001b[0m\n",
      "\u001b[0;32m/tmp/ipykernel_28026/3849320474.py\u001b[0m in \u001b[0;36mupdate_Q\u001b[0;34m(self)\u001b[0m\n\u001b[1;32m     59\u001b[0m \u001b[0;34m\u001b[0m\u001b[0m\n\u001b[1;32m     60\u001b[0m     \u001b[0;32mdef\u001b[0m \u001b[0mupdate_Q\u001b[0m\u001b[0;34m(\u001b[0m\u001b[0mself\u001b[0m\u001b[0;34m)\u001b[0m\u001b[0;34m:\u001b[0m\u001b[0;34m\u001b[0m\u001b[0;34m\u001b[0m\u001b[0m\n\u001b[0;32m---> 61\u001b[0;31m         \u001b[0mself\u001b[0m\u001b[0;34m.\u001b[0m\u001b[0mget_targets\u001b[0m\u001b[0;34m(\u001b[0m\u001b[0;34m)\u001b[0m\u001b[0;34m\u001b[0m\u001b[0;34m\u001b[0m\u001b[0m\n\u001b[0m\u001b[1;32m     62\u001b[0m         \u001b[0mself\u001b[0m\u001b[0;34m.\u001b[0m\u001b[0mminimize_log\u001b[0m\u001b[0;34m(\u001b[0m\u001b[0;34m)\u001b[0m\u001b[0;34m\u001b[0m\u001b[0;34m\u001b[0m\u001b[0m\n\u001b[1;32m     63\u001b[0m         \u001b[0mself\u001b[0m\u001b[0;34m.\u001b[0m\u001b[0mtheta_\u001b[0m \u001b[0;34m=\u001b[0m \u001b[0mself\u001b[0m\u001b[0;34m.\u001b[0m\u001b[0mtheta\u001b[0m\u001b[0;34m\u001b[0m\u001b[0;34m\u001b[0m\u001b[0m\n",
      "\u001b[0;32m/tmp/ipykernel_28026/3849320474.py\u001b[0m in \u001b[0;36mget_targets\u001b[0;34m(self)\u001b[0m\n\u001b[1;32m     42\u001b[0m                     \u001b[0mq\u001b[0m \u001b[0;34m=\u001b[0m \u001b[0mnp\u001b[0m\u001b[0;34m.\u001b[0m\u001b[0mzeros\u001b[0m\u001b[0;34m(\u001b[0m\u001b[0;36m3\u001b[0m\u001b[0;34m)\u001b[0m\u001b[0;34m\u001b[0m\u001b[0;34m\u001b[0m\u001b[0m\n\u001b[1;32m     43\u001b[0m                     \u001b[0;32mfor\u001b[0m \u001b[0ma_\u001b[0m \u001b[0;32min\u001b[0m \u001b[0mrange\u001b[0m\u001b[0;34m(\u001b[0m\u001b[0;36m3\u001b[0m\u001b[0;34m)\u001b[0m\u001b[0;34m:\u001b[0m\u001b[0;34m\u001b[0m\u001b[0;34m\u001b[0m\u001b[0m\n\u001b[0;32m---> 44\u001b[0;31m                         \u001b[0minner\u001b[0m \u001b[0;34m=\u001b[0m \u001b[0mnp\u001b[0m\u001b[0;34m.\u001b[0m\u001b[0minner\u001b[0m\u001b[0;34m(\u001b[0m\u001b[0mphi_\u001b[0m\u001b[0;34m,\u001b[0m \u001b[0mself\u001b[0m\u001b[0;34m.\u001b[0m\u001b[0mtheta_\u001b[0m\u001b[0;34m[\u001b[0m\u001b[0mh\u001b[0m\u001b[0;34m+\u001b[0m\u001b[0;36m1\u001b[0m\u001b[0;34m,\u001b[0m\u001b[0ma_\u001b[0m\u001b[0;34m]\u001b[0m\u001b[0;34m)\u001b[0m\u001b[0;34m\u001b[0m\u001b[0;34m\u001b[0m\u001b[0m\n\u001b[0m\u001b[1;32m     45\u001b[0m                         \u001b[0mq\u001b[0m\u001b[0;34m[\u001b[0m\u001b[0ma_\u001b[0m\u001b[0;34m]\u001b[0m \u001b[0;34m=\u001b[0m \u001b[0;36m1\u001b[0m \u001b[0;34m/\u001b[0m \u001b[0;34m(\u001b[0m\u001b[0;36m1\u001b[0m \u001b[0;34m+\u001b[0m \u001b[0mnp\u001b[0m\u001b[0;34m.\u001b[0m\u001b[0mexp\u001b[0m\u001b[0;34m(\u001b[0m\u001b[0;34m-\u001b[0m\u001b[0minner\u001b[0m\u001b[0;34m)\u001b[0m\u001b[0;34m)\u001b[0m\u001b[0;34m\u001b[0m\u001b[0;34m\u001b[0m\u001b[0m\n\u001b[1;32m     46\u001b[0m                     \u001b[0mv\u001b[0m \u001b[0;34m=\u001b[0m \u001b[0mnp\u001b[0m\u001b[0;34m.\u001b[0m\u001b[0mmin\u001b[0m\u001b[0;34m(\u001b[0m\u001b[0mq\u001b[0m\u001b[0;34m)\u001b[0m\u001b[0;34m\u001b[0m\u001b[0;34m\u001b[0m\u001b[0m\n",
      "\u001b[0;32m<__array_function__ internals>\u001b[0m in \u001b[0;36minner\u001b[0;34m(*args, **kwargs)\u001b[0m\n",
      "\u001b[0;31mKeyboardInterrupt\u001b[0m: "
     ]
    }
   ],
   "source": [
    "for i in [1000,5000,10000,20000,40000,80000,100000,1000000]:\n",
    "    phi = LinearFeatureMap()\n",
    "    #phi.init_poly_features(2,1)\n",
    "    phi.init_fourier_features(2,4)\n",
    "    phi.init_state_normalizers(np.array([0.6,0.07]),np.array([-1.2,-0.07]))\n",
    "    features = 'fourier'\n",
    "    print(i)\n",
    "    agent = FittedQIteration(phi,features,tuples,H,num_trials,10)\n",
    "    agent.run()"
   ]
  },
  {
   "cell_type": "code",
   "execution_count": 37,
   "id": "1f431507-b372-4025-a14f-baa1a6d078d9",
   "metadata": {
    "execution": {
     "iopub.execute_input": "2023-08-30T17:12:06.230703Z",
     "iopub.status.busy": "2023-08-30T17:12:06.230327Z",
     "iopub.status.idle": "2023-08-30T17:12:06.234321Z",
     "shell.execute_reply": "2023-08-30T17:12:06.233546Z",
     "shell.execute_reply.started": "2023-08-30T17:12:06.230676Z"
    },
    "tags": []
   },
   "outputs": [],
   "source": [
    "costs = tuples[-1][2]"
   ]
  },
  {
   "cell_type": "code",
   "execution_count": 38,
   "id": "602a463d-1a22-4779-a884-abf30e2b4938",
   "metadata": {
    "execution": {
     "iopub.execute_input": "2023-08-30T17:12:06.235767Z",
     "iopub.status.busy": "2023-08-30T17:12:06.235528Z",
     "iopub.status.idle": "2023-08-30T17:12:06.495344Z",
     "shell.execute_reply": "2023-08-30T17:12:06.494444Z",
     "shell.execute_reply.started": "2023-08-30T17:12:06.235745Z"
    },
    "tags": []
   },
   "outputs": [],
   "source": [
    "x = np.where(costs==0.0)"
   ]
  },
  {
   "cell_type": "code",
   "execution_count": 39,
   "id": "2868e8d3-3927-49c0-8b7a-831764f75654",
   "metadata": {
    "execution": {
     "iopub.execute_input": "2023-08-30T17:12:06.497457Z",
     "iopub.status.busy": "2023-08-30T17:12:06.497098Z",
     "iopub.status.idle": "2023-08-30T17:12:06.654089Z",
     "shell.execute_reply": "2023-08-30T17:12:06.653252Z",
     "shell.execute_reply.started": "2023-08-30T17:12:06.497431Z"
    },
    "tags": []
   },
   "outputs": [
    {
     "data": {
      "text/plain": [
       "0.000443"
      ]
     },
     "execution_count": 39,
     "metadata": {},
     "output_type": "execute_result"
    }
   ],
   "source": [
    "len(x[0])/num_trials"
   ]
  },
  {
   "cell_type": "code",
   "execution_count": 15,
   "id": "4f5aa5e6-23e9-4fb1-84d4-0ef561aeac84",
   "metadata": {
    "execution": {
     "iopub.execute_input": "2023-08-30T17:50:45.038640Z",
     "iopub.status.busy": "2023-08-30T17:50:45.038126Z",
     "iopub.status.idle": "2023-08-30T17:50:45.042651Z",
     "shell.execute_reply": "2023-08-30T17:50:45.041928Z",
     "shell.execute_reply.started": "2023-08-30T17:50:45.038608Z"
    },
    "tags": []
   },
   "outputs": [],
   "source": [
    "s = tuples[0][0]"
   ]
  },
  {
   "cell_type": "code",
   "execution_count": 17,
   "id": "fb0a49d5-9440-4ae5-a93a-60a43ccc8ee6",
   "metadata": {
    "execution": {
     "iopub.execute_input": "2023-08-30T17:50:52.557059Z",
     "iopub.status.busy": "2023-08-30T17:50:52.556545Z",
     "iopub.status.idle": "2023-08-30T17:50:52.562729Z",
     "shell.execute_reply": "2023-08-30T17:50:52.562010Z",
     "shell.execute_reply.started": "2023-08-30T17:50:52.557027Z"
    },
    "tags": []
   },
   "outputs": [
    {
     "data": {
      "text/plain": [
       "array([-0.56825952,  0.        ])"
      ]
     },
     "execution_count": 17,
     "metadata": {},
     "output_type": "execute_result"
    }
   ],
   "source": [
    "s[:,0]"
   ]
  },
  {
   "cell_type": "code",
   "execution_count": 28,
   "id": "df8cf0f9-6641-4520-932a-e3b9ddd3ab27",
   "metadata": {
    "execution": {
     "iopub.execute_input": "2023-08-30T17:52:43.116079Z",
     "iopub.status.busy": "2023-08-30T17:52:43.115567Z",
     "iopub.status.idle": "2023-08-30T17:52:43.124879Z",
     "shell.execute_reply": "2023-08-30T17:52:43.124153Z",
     "shell.execute_reply.started": "2023-08-30T17:52:43.116047Z"
    },
    "tags": []
   },
   "outputs": [
    {
     "data": {
      "text/plain": [
       "array([[[[0., 0., 0., 0., 0., 0., 0., 0., 0., 0., 0., 0., 0., 0., 0.,\n",
       "          0., 0., 0., 0., 0., 0., 0., 0., 0., 0.]],\n",
       "\n",
       "        [[0., 0., 0., 0., 0., 0., 0., 0., 0., 0., 0., 0., 0., 0., 0.,\n",
       "          0., 0., 0., 0., 0., 0., 0., 0., 0., 0.]],\n",
       "\n",
       "        [[0., 0., 0., 0., 0., 0., 0., 0., 0., 0., 0., 0., 0., 0., 0.,\n",
       "          0., 0., 0., 0., 0., 0., 0., 0., 0., 0.]]],\n",
       "\n",
       "\n",
       "       [[[0., 0., 0., 0., 0., 0., 0., 0., 0., 0., 0., 0., 0., 0., 0.,\n",
       "          0., 0., 0., 0., 0., 0., 0., 0., 0., 0.]],\n",
       "\n",
       "        [[0., 0., 0., 0., 0., 0., 0., 0., 0., 0., 0., 0., 0., 0., 0.,\n",
       "          0., 0., 0., 0., 0., 0., 0., 0., 0., 0.]],\n",
       "\n",
       "        [[0., 0., 0., 0., 0., 0., 0., 0., 0., 0., 0., 0., 0., 0., 0.,\n",
       "          0., 0., 0., 0., 0., 0., 0., 0., 0., 0.]]],\n",
       "\n",
       "\n",
       "       [[[0., 0., 0., 0., 0., 0., 0., 0., 0., 0., 0., 0., 0., 0., 0.,\n",
       "          0., 0., 0., 0., 0., 0., 0., 0., 0., 0.]],\n",
       "\n",
       "        [[0., 0., 0., 0., 0., 0., 0., 0., 0., 0., 0., 0., 0., 0., 0.,\n",
       "          0., 0., 0., 0., 0., 0., 0., 0., 0., 0.]],\n",
       "\n",
       "        [[0., 0., 0., 0., 0., 0., 0., 0., 0., 0., 0., 0., 0., 0., 0.,\n",
       "          0., 0., 0., 0., 0., 0., 0., 0., 0., 0.]]],\n",
       "\n",
       "\n",
       "       [[[0., 0., 0., 0., 0., 0., 0., 0., 0., 0., 0., 0., 0., 0., 0.,\n",
       "          0., 0., 0., 0., 0., 0., 0., 0., 0., 0.]],\n",
       "\n",
       "        [[0., 0., 0., 0., 0., 0., 0., 0., 0., 0., 0., 0., 0., 0., 0.,\n",
       "          0., 0., 0., 0., 0., 0., 0., 0., 0., 0.]],\n",
       "\n",
       "        [[0., 0., 0., 0., 0., 0., 0., 0., 0., 0., 0., 0., 0., 0., 0.,\n",
       "          0., 0., 0., 0., 0., 0., 0., 0., 0., 0.]]],\n",
       "\n",
       "\n",
       "       [[[0., 0., 0., 0., 0., 0., 0., 0., 0., 0., 0., 0., 0., 0., 0.,\n",
       "          0., 0., 0., 0., 0., 0., 0., 0., 0., 0.]],\n",
       "\n",
       "        [[0., 0., 0., 0., 0., 0., 0., 0., 0., 0., 0., 0., 0., 0., 0.,\n",
       "          0., 0., 0., 0., 0., 0., 0., 0., 0., 0.]],\n",
       "\n",
       "        [[0., 0., 0., 0., 0., 0., 0., 0., 0., 0., 0., 0., 0., 0., 0.,\n",
       "          0., 0., 0., 0., 0., 0., 0., 0., 0., 0.]]]])"
      ]
     },
     "execution_count": 28,
     "metadata": {},
     "output_type": "execute_result"
    }
   ],
   "source": [
    "agent.A"
   ]
  },
  {
   "cell_type": "code",
   "execution_count": null,
   "id": "fe766c41-3eeb-43dc-8de0-a41604f98a24",
   "metadata": {},
   "outputs": [],
   "source": []
  }
 ],
 "metadata": {
  "kernelspec": {
   "display_name": "Python 3 (ipykernel)",
   "language": "python",
   "name": "python3"
  },
  "language_info": {
   "codemirror_mode": {
    "name": "ipython",
    "version": 3
   },
   "file_extension": ".py",
   "mimetype": "text/x-python",
   "name": "python",
   "nbconvert_exporter": "python",
   "pygments_lexer": "ipython3",
   "version": "3.7.12"
  },
  "nflx": {
   "sharing": {
    "created_at": "2023-08-22T21:26:40.555Z",
    "is_private": true
   }
  }
 },
 "nbformat": 4,
 "nbformat_minor": 5
}
