{
 "cells": [
  {
   "cell_type": "code",
   "execution_count": 46,
   "id": "e5d70ef0-9d77-493b-a0c9-fc9268a34732",
   "metadata": {
    "execution": {
     "iopub.execute_input": "2023-08-30T17:21:36.838540Z",
     "iopub.status.busy": "2023-08-30T17:21:36.838117Z",
     "iopub.status.idle": "2023-08-30T17:21:36.842662Z",
     "shell.execute_reply": "2023-08-30T17:21:36.841809Z",
     "shell.execute_reply.started": "2023-08-30T17:21:36.838512Z"
    },
    "tags": []
   },
   "outputs": [],
   "source": [
    "from environments import MountainCar\n",
    "from features import LinearFeatureMap\n",
    "import numpy as np\n",
    "from tqdm.notebook import tqdm"
   ]
  },
  {
   "cell_type": "code",
   "execution_count": 41,
   "id": "66a425a2-2c74-4aca-9b23-460f32032be2",
   "metadata": {
    "execution": {
     "iopub.execute_input": "2023-08-30T17:18:53.559742Z",
     "iopub.status.busy": "2023-08-30T17:18:53.559110Z",
     "iopub.status.idle": "2023-08-30T17:18:53.563112Z",
     "shell.execute_reply": "2023-08-30T17:18:53.562324Z",
     "shell.execute_reply.started": "2023-08-30T17:18:53.559710Z"
    },
    "tags": []
   },
   "outputs": [],
   "source": [
    "#tuples = np.load('mc_data.npy',allow_pickle = True)"
   ]
  },
  {
   "cell_type": "code",
   "execution_count": 44,
   "id": "51f91b26-af4b-45ee-846b-561f1e9e1c70",
   "metadata": {
    "execution": {
     "iopub.execute_input": "2023-08-30T17:19:36.728263Z",
     "iopub.status.busy": "2023-08-30T17:19:36.727841Z",
     "iopub.status.idle": "2023-08-30T17:19:44.964940Z",
     "shell.execute_reply": "2023-08-30T17:19:44.964082Z",
     "shell.execute_reply.started": "2023-08-30T17:19:36.728235Z"
    },
    "tags": []
   },
   "outputs": [
    {
     "data": {
      "application/vnd.jupyter.widget-view+json": {
       "model_id": "7cc2ab30a9774ac6843bd51913842a1b",
       "version_major": 2,
       "version_minor": 0
      },
      "text/plain": [
       "  0%|          | 0/150 [00:00<?, ?it/s]"
      ]
     },
     "metadata": {},
     "output_type": "display_data"
    }
   ],
   "source": [
    "H = 150\n",
    "num_trials = 1000000\n",
    "env = MountainCar(H)\n",
    "\n",
    "s = np.zeros((2,num_trials))\n",
    "s[0,:] = np.random.uniform(low = -1.2,high = 0.1,size = num_trials)\n",
    "env.reset()\n",
    "tuples = []\n",
    "\n",
    "for h in tqdm(range(H)):\n",
    "    a = np.random.choice([-1,0,1],size=num_trials)\n",
    "    cost, s_ = env.step_broadcast(s, a, num_trials)\n",
    "    tuples.append([s,a+1,cost,s_,h])\n",
    "    s = s_\n"
   ]
  },
  {
   "cell_type": "code",
   "execution_count": null,
   "id": "694ad64e-2585-43e3-b2e5-542244ad0754",
   "metadata": {
    "execution": {
     "iopub.status.busy": "2023-08-30T17:11:16.930652Z",
     "iopub.status.idle": "2023-08-30T17:11:16.931151Z",
     "shell.execute_reply": "2023-08-30T17:11:16.930998Z",
     "shell.execute_reply.started": "2023-08-30T17:11:16.930982Z"
    },
    "tags": []
   },
   "outputs": [],
   "source": [
    "class FittedQIteration(object):\n",
    "    def __init__(self,phi,features,data,horizon,k):\n",
    "        self.phi = phi\n",
    "        self.features = features\n",
    "        self.data = data\n",
    "        self.H = horizon\n",
    "        self.n = len(data)\n",
    "        self.k = k\n",
    "        self.d = len(self.get_phi(np.array([0,0])))\n",
    "        self.theta_ = np.zeros((self.H,3,self.d)) \n",
    "        self.theta = np.zeros((self.H,3,self.d))\n",
    "        self.A = np.zeros((self.H,3,self.d,self.d))\n",
    "        self.A[:] = np.identity(self.d) \n",
    "        self.get_A()\n",
    "        \n",
    "    \n",
    "    def get_phi(self,state):\n",
    "        if self.features == 'poly':\n",
    "            return self.phi.polynomial_basis(state)\n",
    "        elif self.features == 'fourier':\n",
    "            phi = self.phi.fourier_basis(state)\n",
    "            return phi[:,0]\n",
    "        \n",
    "    \n",
    "    def get_A(self):\n",
    "        print('Getting A')\n",
    "        data = self.data.copy()\n",
    "        for i in tqdm(range(self.n)):\n",
    "            s,a,h = data[i][0], data[i][1], data[i][4]\n",
    "            phi = self.get_phi(s)\n",
    "            self.A[h,a] += np.outer(phi,phi)\n",
    "    \n",
    "    \n",
    "    def get_targets(self,h):\n",
    "        data = self.data.copy()\n",
    "        self.tar = np.zeros((self.d))\n",
    "        for i in range(self.n):\n",
    "            s, a, c, s_, h = data[i][0], data[i][1], data[i][2], data[i][3], data[i][4]\n",
    "            if s_ != None:\n",
    "                phi = self.get_phi(s)\n",
    "                phi_ = self.get_phi(s_)\n",
    "                q = np.zeros(3)\n",
    "                for a_ in range(3):\n",
    "                    q[a_] = np.inner(phi_, self.theta_[h+1,a_])\n",
    "                v = np.min(q)\n",
    "                self.tar[h,a] += max(0,min((c + v),1)) * phi\n",
    "            else:\n",
    "                self.tar[h,a] += c * phi\n",
    "        \n",
    "     \n",
    "    def minimize_sq(self):\n",
    "        for h in range(self.H-1,-1,-1):\n",
    "            for a in range(3):\n",
    "                self.theta[h,a] = np.linalg.solve(self.A[h,a],self.tar[h,a])\n",
    "            \n",
    "    \n",
    "    def update_Q(self):\n",
    "        self.get_targets()\n",
    "        self.minimize_sq()\n",
    "        self.theta_ = self.theta\n",
    "        \n",
    "    \n",
    "    \n",
    "    def run(self):\n",
    "        print('Running')\n",
    "        for t in tqdm(range(self.k)):\n",
    "            self.update_Q()\n",
    "            q = np.zeros(3)\n",
    "            s = np.array([0.5,0])\n",
    "            phi = self.get_phi(s)\n",
    "            for a in range(3):\n",
    "                q[a] = np.inner(phi,self.theta[0,a])\n",
    "            print(q)\n",
    "        "
   ]
  },
  {
   "cell_type": "code",
   "execution_count": null,
   "id": "3f06b6af-ba06-42fc-88a1-108b0f883733",
   "metadata": {
    "execution": {
     "iopub.status.busy": "2023-08-30T17:11:16.932275Z",
     "iopub.status.idle": "2023-08-30T17:11:16.932598Z",
     "shell.execute_reply": "2023-08-30T17:11:16.932445Z",
     "shell.execute_reply.started": "2023-08-30T17:11:16.932430Z"
    },
    "tags": []
   },
   "outputs": [],
   "source": [
    "for i in [1000,5000,10000,20000,40000,80000,100000,1000000]:\n",
    "    phi = LinearFeatureMap()\n",
    "    #phi.init_poly_features(2,1)\n",
    "    phi.init_fourier_features(2,4)\n",
    "    phi.init_state_normalizers(np.array([0.6,0.07]),np.array([-1.2,-0.07]))\n",
    "    features = 'fourier'\n",
    "    print(i)\n",
    "    agent = LeastSquaresFittedQIteration(phi,features,tuples[:i],H,10)\n",
    "    agent.run()"
   ]
  },
  {
   "cell_type": "code",
   "execution_count": 37,
   "id": "1f431507-b372-4025-a14f-baa1a6d078d9",
   "metadata": {
    "execution": {
     "iopub.execute_input": "2023-08-30T17:12:06.230703Z",
     "iopub.status.busy": "2023-08-30T17:12:06.230327Z",
     "iopub.status.idle": "2023-08-30T17:12:06.234321Z",
     "shell.execute_reply": "2023-08-30T17:12:06.233546Z",
     "shell.execute_reply.started": "2023-08-30T17:12:06.230676Z"
    },
    "tags": []
   },
   "outputs": [],
   "source": [
    "costs = tuples[-1][2]"
   ]
  },
  {
   "cell_type": "code",
   "execution_count": 38,
   "id": "602a463d-1a22-4779-a884-abf30e2b4938",
   "metadata": {
    "execution": {
     "iopub.execute_input": "2023-08-30T17:12:06.235767Z",
     "iopub.status.busy": "2023-08-30T17:12:06.235528Z",
     "iopub.status.idle": "2023-08-30T17:12:06.495344Z",
     "shell.execute_reply": "2023-08-30T17:12:06.494444Z",
     "shell.execute_reply.started": "2023-08-30T17:12:06.235745Z"
    },
    "tags": []
   },
   "outputs": [],
   "source": [
    "x = np.where(costs==0.0)"
   ]
  },
  {
   "cell_type": "code",
   "execution_count": 39,
   "id": "2868e8d3-3927-49c0-8b7a-831764f75654",
   "metadata": {
    "execution": {
     "iopub.execute_input": "2023-08-30T17:12:06.497457Z",
     "iopub.status.busy": "2023-08-30T17:12:06.497098Z",
     "iopub.status.idle": "2023-08-30T17:12:06.654089Z",
     "shell.execute_reply": "2023-08-30T17:12:06.653252Z",
     "shell.execute_reply.started": "2023-08-30T17:12:06.497431Z"
    },
    "tags": []
   },
   "outputs": [
    {
     "data": {
      "text/plain": [
       "0.000443"
      ]
     },
     "execution_count": 39,
     "metadata": {},
     "output_type": "execute_result"
    }
   ],
   "source": [
    "len(x[0])/num_trials"
   ]
  },
  {
   "cell_type": "code",
   "execution_count": 24,
   "id": "4f5aa5e6-23e9-4fb1-84d4-0ef561aeac84",
   "metadata": {
    "execution": {
     "iopub.execute_input": "2023-08-30T17:10:58.071677Z",
     "iopub.status.busy": "2023-08-30T17:10:58.071226Z",
     "iopub.status.idle": "2023-08-30T17:10:58.077102Z",
     "shell.execute_reply": "2023-08-30T17:10:58.076316Z",
     "shell.execute_reply.started": "2023-08-30T17:10:58.071646Z"
    },
    "tags": []
   },
   "outputs": [
    {
     "data": {
      "text/plain": [
       "(array([    11,     26,     72, ..., 999970, 999993, 999996]),)"
      ]
     },
     "execution_count": 24,
     "metadata": {},
     "output_type": "execute_result"
    }
   ],
   "source": [
    "x"
   ]
  },
  {
   "cell_type": "code",
   "execution_count": 51,
   "id": "fb0a49d5-9440-4ae5-a93a-60a43ccc8ee6",
   "metadata": {
    "execution": {
     "iopub.execute_input": "2023-08-30T17:22:42.629436Z",
     "iopub.status.busy": "2023-08-30T17:22:42.629005Z",
     "iopub.status.idle": "2023-08-30T17:22:42.634043Z",
     "shell.execute_reply": "2023-08-30T17:22:42.633271Z",
     "shell.execute_reply.started": "2023-08-30T17:22:42.629407Z"
    },
    "tags": []
   },
   "outputs": [],
   "source": [
    "phi = LinearFeatureMap()\n",
    "phi.init_fourier_features(2,4)\n",
    "phi.init_state_normalizers(np.array([0.6,0.07]),np.array([-1.2,-0.07]))"
   ]
  },
  {
   "cell_type": "code",
   "execution_count": 52,
   "id": "190ed8ea-6344-4aae-8b2c-87026a02a01b",
   "metadata": {
    "execution": {
     "iopub.execute_input": "2023-08-30T17:22:43.178539Z",
     "iopub.status.busy": "2023-08-30T17:22:43.178112Z",
     "iopub.status.idle": "2023-08-30T17:22:43.182462Z",
     "shell.execute_reply": "2023-08-30T17:22:43.181709Z",
     "shell.execute_reply.started": "2023-08-30T17:22:43.178512Z"
    },
    "tags": []
   },
   "outputs": [],
   "source": [
    "s = np.zeros((2,5))\n",
    "s[0,:] = 0.5"
   ]
  },
  {
   "cell_type": "code",
   "execution_count": 55,
   "id": "ae5afcb2-3199-4005-ac28-3b4fd55dd11d",
   "metadata": {
    "execution": {
     "iopub.execute_input": "2023-08-30T17:23:21.909048Z",
     "iopub.status.busy": "2023-08-30T17:23:21.908625Z",
     "iopub.status.idle": "2023-08-30T17:23:21.920964Z",
     "shell.execute_reply": "2023-08-30T17:23:21.919979Z",
     "shell.execute_reply.started": "2023-08-30T17:23:21.909018Z"
    },
    "tags": []
   },
   "outputs": [
    {
     "ename": "ValueError",
     "evalue": "operands could not be broadcast together with shapes (2,5) (2,) ",
     "output_type": "error",
     "traceback": [
      "\u001b[0;31m---------------------------------------------------------------------------\u001b[0m",
      "\u001b[0;31mValueError\u001b[0m                                Traceback (most recent call last)",
      "\u001b[0;32m/tmp/ipykernel_26336/964926132.py\u001b[0m in \u001b[0;36m<module>\u001b[0;34m\u001b[0m\n\u001b[0;32m----> 1\u001b[0;31m \u001b[0mphi\u001b[0m\u001b[0;34m.\u001b[0m\u001b[0mfourier_basis\u001b[0m\u001b[0;34m(\u001b[0m\u001b[0ms\u001b[0m\u001b[0;34m)\u001b[0m\u001b[0;34m\u001b[0m\u001b[0;34m\u001b[0m\u001b[0m\n\u001b[0m",
      "\u001b[0;32m~/private-notebooks/features.py\u001b[0m in \u001b[0;36mfourier_basis\u001b[0;34m(self, state)\u001b[0m\n\u001b[1;32m     32\u001b[0m \u001b[0;34m\u001b[0m\u001b[0m\n\u001b[1;32m     33\u001b[0m     \u001b[0;32mdef\u001b[0m \u001b[0mfourier_basis\u001b[0m\u001b[0;34m(\u001b[0m\u001b[0mself\u001b[0m\u001b[0;34m,\u001b[0m \u001b[0mstate\u001b[0m\u001b[0;34m)\u001b[0m\u001b[0;34m:\u001b[0m\u001b[0;34m\u001b[0m\u001b[0;34m\u001b[0m\u001b[0m\n\u001b[0;32m---> 34\u001b[0;31m         \u001b[0mstate\u001b[0m \u001b[0;34m=\u001b[0m \u001b[0mself\u001b[0m\u001b[0;34m.\u001b[0m\u001b[0mnormalize_state\u001b[0m\u001b[0;34m(\u001b[0m\u001b[0mstate\u001b[0m\u001b[0;34m)\u001b[0m\u001b[0;34m\u001b[0m\u001b[0;34m\u001b[0m\u001b[0m\n\u001b[0m\u001b[1;32m     35\u001b[0m         \u001b[0morder_list\u001b[0m \u001b[0;34m=\u001b[0m \u001b[0mself\u001b[0m\u001b[0;34m.\u001b[0m\u001b[0morder_list\u001b[0m\u001b[0;34m\u001b[0m\u001b[0;34m\u001b[0m\u001b[0m\n\u001b[1;32m     36\u001b[0m         \u001b[0mstate_new\u001b[0m \u001b[0;34m=\u001b[0m \u001b[0mnp\u001b[0m\u001b[0;34m.\u001b[0m\u001b[0marray\u001b[0m\u001b[0;34m(\u001b[0m\u001b[0mstate\u001b[0m\u001b[0;34m)\u001b[0m\u001b[0;34m.\u001b[0m\u001b[0mreshape\u001b[0m\u001b[0;34m(\u001b[0m\u001b[0;36m1\u001b[0m\u001b[0;34m,\u001b[0m\u001b[0;34m-\u001b[0m\u001b[0;36m1\u001b[0m\u001b[0;34m)\u001b[0m\u001b[0;34m\u001b[0m\u001b[0;34m\u001b[0m\u001b[0m\n",
      "\u001b[0;32m~/private-notebooks/features.py\u001b[0m in \u001b[0;36mnormalize_state\u001b[0;34m(self, state)\u001b[0m\n\u001b[1;32m     26\u001b[0m \u001b[0;34m\u001b[0m\u001b[0m\n\u001b[1;32m     27\u001b[0m     \u001b[0;32mdef\u001b[0m \u001b[0mnormalize_state\u001b[0m\u001b[0;34m(\u001b[0m\u001b[0mself\u001b[0m\u001b[0;34m,\u001b[0m\u001b[0mstate\u001b[0m\u001b[0;34m)\u001b[0m\u001b[0;34m:\u001b[0m\u001b[0;34m\u001b[0m\u001b[0;34m\u001b[0m\u001b[0m\n\u001b[0;32m---> 28\u001b[0;31m         \u001b[0;32mreturn\u001b[0m \u001b[0;34m(\u001b[0m\u001b[0mstate\u001b[0m \u001b[0;34m-\u001b[0m \u001b[0mself\u001b[0m\u001b[0;34m.\u001b[0m\u001b[0mmin\u001b[0m\u001b[0;34m)\u001b[0m \u001b[0;34m/\u001b[0m \u001b[0mself\u001b[0m\u001b[0;34m.\u001b[0m\u001b[0mrange\u001b[0m\u001b[0;34m\u001b[0m\u001b[0;34m\u001b[0m\u001b[0m\n\u001b[0m\u001b[1;32m     29\u001b[0m \u001b[0;34m\u001b[0m\u001b[0m\n\u001b[1;32m     30\u001b[0m     \u001b[0;32mdef\u001b[0m \u001b[0minit_fourier_features\u001b[0m\u001b[0;34m(\u001b[0m\u001b[0mself\u001b[0m\u001b[0;34m,\u001b[0m \u001b[0mstate_dim\u001b[0m\u001b[0;34m,\u001b[0m \u001b[0morder\u001b[0m\u001b[0;34m)\u001b[0m\u001b[0;34m:\u001b[0m\u001b[0;34m\u001b[0m\u001b[0;34m\u001b[0m\u001b[0m\n",
      "\u001b[0;31mValueError\u001b[0m: operands could not be broadcast together with shapes (2,5) (2,) "
     ]
    }
   ],
   "source": [
    "\n",
    "phi.fourier_basis(s)"
   ]
  },
  {
   "cell_type": "code",
   "execution_count": null,
   "id": "11bb4474-2adc-4edd-9841-b3274c902b41",
   "metadata": {},
   "outputs": [],
   "source": []
  }
 ],
 "metadata": {
  "kernelspec": {
   "display_name": "Python 3 (ipykernel)",
   "language": "python",
   "name": "python3"
  },
  "language_info": {
   "codemirror_mode": {
    "name": "ipython",
    "version": 3
   },
   "file_extension": ".py",
   "mimetype": "text/x-python",
   "name": "python",
   "nbconvert_exporter": "python",
   "pygments_lexer": "ipython3",
   "version": "3.7.12"
  },
  "nflx": {
   "sharing": {
    "created_at": "2023-08-22T21:26:40.555Z",
    "is_private": true
   }
  }
 },
 "nbformat": 4,
 "nbformat_minor": 5
}
