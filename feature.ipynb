{
 "cells": [
  {
   "cell_type": "code",
   "execution_count": 31,
   "id": "da467723-9007-4a41-b951-81db27d2fa31",
   "metadata": {
    "execution": {
     "iopub.execute_input": "2023-08-25T21:55:58.416105Z",
     "iopub.status.busy": "2023-08-25T21:55:58.415678Z",
     "iopub.status.idle": "2023-08-25T21:55:58.419724Z",
     "shell.execute_reply": "2023-08-25T21:55:58.419010Z",
     "shell.execute_reply.started": "2023-08-25T21:55:58.416076Z"
    },
    "tags": []
   },
   "outputs": [],
   "source": [
    "import numpy as np\n",
    "import itertools as iters"
   ]
  },
  {
   "cell_type": "code",
   "execution_count": 33,
   "id": "74df0751-f6fa-4feb-901e-3cae129ece00",
   "metadata": {
    "execution": {
     "iopub.execute_input": "2023-08-25T21:56:34.926957Z",
     "iopub.status.busy": "2023-08-25T21:56:34.926513Z",
     "iopub.status.idle": "2023-08-25T21:56:34.937847Z",
     "shell.execute_reply": "2023-08-25T21:56:34.937150Z",
     "shell.execute_reply.started": "2023-08-25T21:56:34.926929Z"
    },
    "tags": []
   },
   "outputs": [],
   "source": [
    "class LinearFeatureMap(object):\n",
    "    def __init__(self):\n",
    "        pass\n",
    "    \n",
    "    def init_poly_features(self, state_dim, order):\n",
    "        self.k = state_dim\n",
    "        self.c = np.array(list(iters.product(np.arange(order+1), repeat=state_dim)))\n",
    "        self.len_c = len(self.c)\n",
    "    \n",
    "    def polynomial_basis(self, state):\n",
    "        prod = np.ones(self.len_c)\n",
    "        \n",
    "        for j in range(self.k):\n",
    "            prod[:] = prod[:] * (state[j] ** self.c[:,j])\n",
    "            \n",
    "        return prod\n",
    "    \n",
    "    def init_state_normalizers(self,maxs,mins):\n",
    "        self.max = maxs\n",
    "        self.min = mins\n",
    "        self.range = (self.max - self.min)\n",
    "        \n",
    "    \n",
    "    def normalize_state(self,state):\n",
    "        return (state - self.min) / self.range\n",
    "    \n",
    "    def init_fourier_features(self, state_dim, order):\n",
    "        self.order_list = np.array(list(iters.product(np.arange(order+1), repeat=state_dim)))\n",
    "    \n",
    "    def fourier_basis(self, state):\n",
    "        state = self.normalize_state(state)\n",
    "        order_list = self.order_list\n",
    "        state_new = np.array(state).reshape(1,-1)\n",
    "        scalars = np.einsum('ij, kj->ik', order_list, state_new) #do a row by row dot product with the state. i = length of order list, j = state dimensions, k = 1\n",
    "        assert scalars.shape == (len(order_list),1)\n",
    "        phi = np.cos(np.pi*scalars)\n",
    "        return phi\n",
    "    \n",
    "    def init_radial_basis_features(self, dim, centers, widths):\n",
    "        self.dim = dim\n",
    "        self.centers = centers\n",
    "        self.widths = widths\n",
    "    \n",
    "    def radial_basis(self,state):\n",
    "        x = np.zeros(self.dim)\n",
    "        x = np.exp(- np.linalg.norm(state - self.centers) ** 2 / (2 * self.widths ** 2))\n",
    "        return x"
   ]
  },
  {
   "cell_type": "code",
   "execution_count": 34,
   "id": "f05a019a-9e1d-4bbf-abd4-e407e986cfa6",
   "metadata": {
    "execution": {
     "iopub.execute_input": "2023-08-25T21:56:35.916927Z",
     "iopub.status.busy": "2023-08-25T21:56:35.916532Z",
     "iopub.status.idle": "2023-08-25T21:56:35.921516Z",
     "shell.execute_reply": "2023-08-25T21:56:35.920755Z",
     "shell.execute_reply.started": "2023-08-25T21:56:35.916899Z"
    },
    "tags": []
   },
   "outputs": [],
   "source": [
    "x = np.array([0.6,-0.05])\n",
    "mins =  np.array([-1.2,-0.07])\n",
    "maxs =  np.array([0.6,0.07])\n",
    "phi = LinearFeatureMap()\n",
    "phi.init_state_normalizers(maxs,mins)"
   ]
  },
  {
   "cell_type": "code",
   "execution_count": 40,
   "id": "89408990-2d5c-4ec8-9140-c9faa9bd2e14",
   "metadata": {
    "execution": {
     "iopub.execute_input": "2023-08-25T21:58:22.402975Z",
     "iopub.status.busy": "2023-08-25T21:58:22.401991Z",
     "iopub.status.idle": "2023-08-25T21:58:22.410402Z",
     "shell.execute_reply": "2023-08-25T21:58:22.409353Z",
     "shell.execute_reply.started": "2023-08-25T21:58:22.402939Z"
    },
    "tags": []
   },
   "outputs": [
    {
     "data": {
      "text/plain": [
       "array([[ 1.00000000e+00],\n",
       "       [ 9.98026728e-01],\n",
       "       [ 9.92114701e-01],\n",
       "       [ 9.82287251e-01],\n",
       "       [ 9.68583161e-01],\n",
       "       [ 9.51056516e-01],\n",
       "       [ 9.29776486e-01],\n",
       "       [ 9.04827052e-01],\n",
       "       [ 8.76306680e-01],\n",
       "       [ 6.12323400e-17],\n",
       "       [ 6.27905195e-02],\n",
       "       [ 1.25333234e-01],\n",
       "       [ 1.87381315e-01],\n",
       "       [ 2.48689887e-01],\n",
       "       [ 3.09016994e-01],\n",
       "       [ 3.68124553e-01],\n",
       "       [ 4.25779292e-01],\n",
       "       [ 4.81753674e-01],\n",
       "       [-1.00000000e+00],\n",
       "       [-9.98026728e-01],\n",
       "       [-9.92114701e-01],\n",
       "       [-9.82287251e-01],\n",
       "       [-9.68583161e-01],\n",
       "       [-9.51056516e-01],\n",
       "       [-9.29776486e-01],\n",
       "       [-9.04827052e-01],\n",
       "       [-8.76306680e-01],\n",
       "       [-1.83697020e-16],\n",
       "       [-6.27905195e-02],\n",
       "       [-1.25333234e-01],\n",
       "       [-1.87381315e-01],\n",
       "       [-2.48689887e-01],\n",
       "       [-3.09016994e-01],\n",
       "       [-3.68124553e-01],\n",
       "       [-4.25779292e-01],\n",
       "       [-4.81753674e-01],\n",
       "       [ 1.00000000e+00],\n",
       "       [ 9.98026728e-01],\n",
       "       [ 9.92114701e-01],\n",
       "       [ 9.82287251e-01],\n",
       "       [ 9.68583161e-01],\n",
       "       [ 9.51056516e-01],\n",
       "       [ 9.29776486e-01],\n",
       "       [ 9.04827052e-01],\n",
       "       [ 8.76306680e-01],\n",
       "       [ 3.06161700e-16],\n",
       "       [ 6.27905195e-02],\n",
       "       [ 1.25333234e-01],\n",
       "       [ 1.87381315e-01],\n",
       "       [ 2.48689887e-01],\n",
       "       [ 3.09016994e-01],\n",
       "       [ 3.68124553e-01],\n",
       "       [ 4.25779292e-01],\n",
       "       [ 4.81753674e-01],\n",
       "       [-1.00000000e+00],\n",
       "       [-9.98026728e-01],\n",
       "       [-9.92114701e-01],\n",
       "       [-9.82287251e-01],\n",
       "       [-9.68583161e-01],\n",
       "       [-9.51056516e-01],\n",
       "       [-9.29776486e-01],\n",
       "       [-9.04827052e-01],\n",
       "       [-8.76306680e-01],\n",
       "       [-4.28626380e-16],\n",
       "       [-6.27905195e-02],\n",
       "       [-1.25333234e-01],\n",
       "       [-1.87381315e-01],\n",
       "       [-2.48689887e-01],\n",
       "       [-3.09016994e-01],\n",
       "       [-3.68124553e-01],\n",
       "       [-4.25779292e-01],\n",
       "       [-4.81753674e-01],\n",
       "       [ 1.00000000e+00],\n",
       "       [ 9.98026728e-01],\n",
       "       [ 9.92114701e-01],\n",
       "       [ 9.82287251e-01],\n",
       "       [ 9.68583161e-01],\n",
       "       [ 9.51056516e-01],\n",
       "       [ 9.29776486e-01],\n",
       "       [ 9.04827052e-01],\n",
       "       [ 8.76306680e-01]])"
      ]
     },
     "execution_count": 40,
     "metadata": {},
     "output_type": "execute_result"
    }
   ],
   "source": [
    "phi.init_fourier_features(2,8)\n",
    "phi.fourier_basis([0.5,-0.02])"
   ]
  },
  {
   "cell_type": "code",
   "execution_count": 28,
   "id": "4551cc1d-d7d3-44e8-8516-982c3f49265f",
   "metadata": {
    "execution": {
     "iopub.execute_input": "2023-08-25T17:44:01.138303Z",
     "iopub.status.busy": "2023-08-25T17:44:01.137762Z",
     "iopub.status.idle": "2023-08-25T17:44:01.143424Z",
     "shell.execute_reply": "2023-08-25T17:44:01.142576Z",
     "shell.execute_reply.started": "2023-08-25T17:44:01.138269Z"
    },
    "tags": []
   },
   "outputs": [],
   "source": [
    "def _get_order_array(order,number_of_states,start = 0):\n",
    "    arr = []\n",
    "    for i in iters.product(np.arange(start,order + 1),repeat=(number_of_states)):\n",
    "        arr.append(np.array(i))\n",
    "    return np.array(arr)"
   ]
  },
  {
   "cell_type": "code",
   "execution_count": 29,
   "id": "c535444f-397b-4513-ba73-39bfaf1897de",
   "metadata": {
    "execution": {
     "iopub.execute_input": "2023-08-25T17:44:01.256894Z",
     "iopub.status.busy": "2023-08-25T17:44:01.256251Z",
     "iopub.status.idle": "2023-08-25T17:44:01.325822Z",
     "shell.execute_reply": "2023-08-25T17:44:01.325105Z",
     "shell.execute_reply.started": "2023-08-25T17:44:01.256867Z"
    },
    "tags": []
   },
   "outputs": [],
   "source": [
    "x = _get_order_array(5,2)"
   ]
  },
  {
   "cell_type": "code",
   "execution_count": 30,
   "id": "7c4b6422-5e2c-40f6-bdf8-a1782b197426",
   "metadata": {
    "execution": {
     "iopub.execute_input": "2023-08-25T17:44:03.864218Z",
     "iopub.status.busy": "2023-08-25T17:44:03.863716Z",
     "iopub.status.idle": "2023-08-25T17:44:03.870639Z",
     "shell.execute_reply": "2023-08-25T17:44:03.869742Z",
     "shell.execute_reply.started": "2023-08-25T17:44:03.864186Z"
    },
    "tags": []
   },
   "outputs": [
    {
     "data": {
      "text/plain": [
       "array([[0, 0],\n",
       "       [0, 1],\n",
       "       [0, 2],\n",
       "       [0, 3],\n",
       "       [0, 4],\n",
       "       [0, 5],\n",
       "       [1, 0],\n",
       "       [1, 1],\n",
       "       [1, 2],\n",
       "       [1, 3],\n",
       "       [1, 4],\n",
       "       [1, 5],\n",
       "       [2, 0],\n",
       "       [2, 1],\n",
       "       [2, 2],\n",
       "       [2, 3],\n",
       "       [2, 4],\n",
       "       [2, 5],\n",
       "       [3, 0],\n",
       "       [3, 1],\n",
       "       [3, 2],\n",
       "       [3, 3],\n",
       "       [3, 4],\n",
       "       [3, 5],\n",
       "       [4, 0],\n",
       "       [4, 1],\n",
       "       [4, 2],\n",
       "       [4, 3],\n",
       "       [4, 4],\n",
       "       [4, 5],\n",
       "       [5, 0],\n",
       "       [5, 1],\n",
       "       [5, 2],\n",
       "       [5, 3],\n",
       "       [5, 4],\n",
       "       [5, 5]])"
      ]
     },
     "execution_count": 30,
     "metadata": {},
     "output_type": "execute_result"
    }
   ],
   "source": [
    "x"
   ]
  },
  {
   "cell_type": "code",
   "execution_count": null,
   "id": "3dddb339-512d-41ba-8b61-b084d41f71bf",
   "metadata": {},
   "outputs": [],
   "source": []
  }
 ],
 "metadata": {
  "kernelspec": {
   "display_name": "Python 3 (ipykernel)",
   "language": "python",
   "name": "python3"
  },
  "language_info": {
   "codemirror_mode": {
    "name": "ipython",
    "version": 3
   },
   "file_extension": ".py",
   "mimetype": "text/x-python",
   "name": "python",
   "nbconvert_exporter": "python",
   "pygments_lexer": "ipython3",
   "version": "3.7.12"
  },
  "nflx": {
   "sharing": {
    "created_at": "2023-08-22T23:06:31.728Z",
    "is_private": true
   }
  }
 },
 "nbformat": 4,
 "nbformat_minor": 5
}
