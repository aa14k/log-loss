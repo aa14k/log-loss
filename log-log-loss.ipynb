{
 "cells": [
  {
   "cell_type": "code",
   "execution_count": 173,
   "id": "5b77b2b8-d788-492d-9df3-8d21e6196705",
   "metadata": {
    "execution": {
     "iopub.execute_input": "2023-08-30T20:16:02.577068Z",
     "iopub.status.busy": "2023-08-30T20:16:02.576568Z",
     "iopub.status.idle": "2023-08-30T20:16:02.581282Z",
     "shell.execute_reply": "2023-08-30T20:16:02.580547Z",
     "shell.execute_reply.started": "2023-08-30T20:16:02.577037Z"
    },
    "tags": []
   },
   "outputs": [],
   "source": [
    "import numpy as np\n",
    "import scipy as sc\n",
    "from classifiers import Sigmoid_Regression\n",
    "from tqdm.notebook import tqdm\n",
    "import matplotlib.pyplot as plt"
   ]
  },
  {
   "attachments": {},
   "cell_type": "markdown",
   "id": "d623c68c-c6fc-44d6-980c-cb92e02f52a7",
   "metadata": {},
   "source": [
    "# Sigmoid Models with Logarithmic Loss\n",
    "\n",
    "Consider the following protocol: for $t=1,2,...,T$, nature chooses $x_t \\in \\mathbb{R}^d$ in each round, and then reveals a noisy label $y_t \\sim \\text{Ber}(p(x_t^\\top \\theta^\\star))$, where $\\theta^\\star \\in \\mathbb{R}^d$ is the unknown parameter and $p(z) = 1/(1 + e^{-x})$ is the link function. Our goal is to learn to make accurate predictions given a linear model class and any $x \\in \\mathbb{R}^d$, i.e., to predict $y^\\star(x) = p(x^\\top \\theta^\\star)$. One way of learning $\\theta^\\star$ given i.i.d samples of $\\{x_t,y_t\\}_{t=1}^T$ is to perform nonlinear least squares regression.\n",
    "\n",
    "Nonlinear least sqaures regression considers the following estimator and prediction: given $\\{x_t,y_t\\}_{t=1}^T$ compute:\n",
    "\n",
    "$$\n",
    "\\hat\\theta_T := \\arg\\min_{\\theta \\in \\mathbb{R}^d} \\sum_{t=1}^T \\left( p(x_t^\\top \\theta) - y_t\\right)^2 \n",
    "$$\n",
    "\n",
    "and set $\\hat y_T(x) := p(x^\\top \\hat\\theta_T)$. The estimator and the prediciton can also be solved using a number of popular nonlinear least sqaures solver, such as the Gauss Newton Algorithm. In the below code, we scipy's built in nonlinear least sqaures solver $\\href{https://docs.scipy.org/doc/scipy/reference/generated/scipy.optimize.least_squares.html}{\\texttt{scipy.optimize.least_squares}}$.\n",
    "\n",
    "Another way of learning $\\theta^\\star$  given i.i.d samples of $\\{x_t,y_t\\}_{t=1}^T$ is to perform regression with the negative logarithmic (cross-entropy) loss. \n",
    "\n",
    "Regression with negative logarithmic loss considers the following estimator and prediciton: given $\\{x_t,y_t\\}_{t=1}^T$ compute:\n",
    "\n",
    "$$\n",
    "\\hat\\theta_T := \\arg\\max_{\\theta \\in \\mathbb{R}^d} \\mathcal{L}(\\{x_t,y_t\\}_{t=1}^T;\\theta) = \\arg\\max_{\\theta \\in \\mathbb{R}^d}  \\sum_{t=1}^T y_t \\log(p(x_t^\\top \\theta)) + (1-y_t)\\log(1-p(x_t^\\top \\theta))\n",
    "$$\n",
    "and set $\\hat y_T(x) := p(x^\\top \\hat\\theta_T)$. The estimaotr and the prediciton cannot be solved in closed form, however the loss function defined above is concave in its argument. Therefore approximate solvers like Newtown's method or Gradient Descent, should be sufficient for finding the $\\theta$ that minimizes the negative logarithmic loss. Taking the first derivative of the loss $\\mathcal{L}$ we get:2*\n",
    "\n",
    "$$\n",
    "\\frac{\\partial}{\\partial \\theta}  \\mathcal{L}(\\{x_t,y_t\\}_{t=1}^T;\\theta) = g_T(\\theta) :=  \\sum_{t=1}^T (2 \\cdot y_t - \\tanh(x_t^\\top \\theta) - 1)x_t.\n",
    "$$\n",
    "\n",
    "Taking the second derivative of $\\mathcal{L}$ gives:\n",
    "\n",
    "$$\n",
    "\\frac{\\partial^2}{\\partial \\theta^2}  \\mathcal{L}(\\{x_t,y_t\\}_{t=1}^T;\\theta)= H_T(\\theta) :=  \\sum_{t=1}^T -\\frac{1}{2\\cdot\\cosh(x_t^\\top\\theta)} x_t x_t^\\top.\n",
    "$$\n",
    "\n",
    "Thus we can solve:\n",
    "\n",
    "$$\n",
    "\\hat\\theta_T := \\arg\\min_{\\theta \\in \\mathbb{R}^d} - \\mathcal{L}(\\{x_t,y_t\\}_{t=1}^T;\\theta)\n",
    "$$\n",
    "\n",
    "by applying Newton's method for $k=1,2,...,n$, i.e.\n",
    "\n",
    "$$\n",
    "\\theta_{k+1} = \\theta_k - \\left(H_T^{-1}(\\theta_k)\\right)^\\top g_t(\\theta_k).\n",
    "$$\n",
    "\n",
    "where $\\theta_0$ is initialized approprioately, i.e. $\\theta_0 \\sim \\mathcal{N}(0,I)$. Setting $\\hat\\theta_T = \\theta_n$ gives us our estimator and letting $\\hat y_T(x) = p(x^\\top \\hat\\theta_T)$ gives us our predictor. "
   ]
  },
  {
   "cell_type": "code",
   "execution_count": 207,
   "id": "78fad414-ea12-4143-be25-074c0de8e728",
   "metadata": {
    "execution": {
     "iopub.execute_input": "2023-08-30T21:19:25.591631Z",
     "iopub.status.busy": "2023-08-30T21:19:25.591182Z",
     "iopub.status.idle": "2023-08-30T21:19:26.377891Z",
     "shell.execute_reply": "2023-08-30T21:19:26.377084Z",
     "shell.execute_reply.started": "2023-08-30T21:19:25.591603Z"
    },
    "tags": []
   },
   "outputs": [],
   "source": [
    "np.save('features.npy',features)\n",
    "np.save('tar.npy',tar)\n",
    "np.save('theta_star.npy',theta_star)"
   ]
  },
  {
   "cell_type": "code",
   "execution_count": 238,
   "id": "798f87db-2ba0-4d13-8b6e-852ba7889312",
   "metadata": {
    "execution": {
     "iopub.execute_input": "2023-08-30T21:31:46.334000Z",
     "iopub.status.busy": "2023-08-30T21:31:46.333556Z",
     "iopub.status.idle": "2023-08-30T21:31:52.543751Z",
     "shell.execute_reply": "2023-08-30T21:31:52.542906Z",
     "shell.execute_reply.started": "2023-08-30T21:31:46.333971Z"
    },
    "tags": []
   },
   "outputs": [
    {
     "data": {
      "application/vnd.jupyter.widget-view+json": {
       "model_id": "fd346d3b237340619c52a4cdb19f68f8",
       "version_major": 2,
       "version_minor": 0
      },
      "text/plain": [
       "  0%|          | 0/500000 [00:00<?, ?it/s]"
      ]
     },
     "metadata": {},
     "output_type": "display_data"
    }
   ],
   "source": [
    "d = 20\n",
    "num_features = 50\n",
    "theta_star = np.random.uniform(low=0.5,high=1.5,size=d) \n",
    "theta_star[-1] = 10\n",
    "\n",
    "num_samples = 550000\n",
    "features = np.zeros((num_samples,d))\n",
    "tar = np.zeros(num_samples)\n",
    "reg = Sigmoid_Regression(features[:d],tar[:d],d,50,theta_star)\n",
    "X = np.random.uniform(low=-0.2,high=1.0,size=(num_features,d)) \n",
    "for i in tqdm(range(num_samples)):\n",
    "    j = i % num_features\n",
    "    feature = X[j]\n",
    "    mean = reg.p(np.inner(X[j],theta_star))\n",
    "    obs = np.random.binomial(1,p=mean) \n",
    "    features[i] = feature\n",
    "    tar[i] = obs"
   ]
  },
  {
   "cell_type": "code",
   "execution_count": 272,
   "id": "302613b3-c8df-48e7-b635-55dcc8aa9fa3",
   "metadata": {
    "execution": {
     "iopub.execute_input": "2023-08-30T21:47:36.930819Z",
     "iopub.status.busy": "2023-08-30T21:47:36.930376Z",
     "iopub.status.idle": "2023-08-30T21:48:03.308808Z",
     "shell.execute_reply": "2023-08-30T21:48:03.308001Z",
     "shell.execute_reply.started": "2023-08-30T21:47:36.930790Z"
    },
    "tags": []
   },
   "outputs": [
    {
     "data": {
      "application/vnd.jupyter.widget-view+json": {
       "model_id": "f80f5664a32b46ccad3e57e07b173405",
       "version_major": 2,
       "version_minor": 0
      },
      "text/plain": [
       "  0%|          | 0/30 [00:00<?, ?it/s]"
      ]
     },
     "metadata": {},
     "output_type": "display_data"
    },
    {
     "data": {
      "application/vnd.jupyter.widget-view+json": {
       "model_id": "e5650ce2ad4d41bd8027cd8b1c970b68",
       "version_major": 2,
       "version_minor": 0
      },
      "text/plain": [
       "  0%|          | 0/30 [00:00<?, ?it/s]"
      ]
     },
     "metadata": {},
     "output_type": "display_data"
    },
    {
     "data": {
      "application/vnd.jupyter.widget-view+json": {
       "model_id": "1921914596694fcfb2860640279a095e",
       "version_major": 2,
       "version_minor": 0
      },
      "text/plain": [
       "  0%|          | 0/30 [00:00<?, ?it/s]"
      ]
     },
     "metadata": {},
     "output_type": "display_data"
    },
    {
     "data": {
      "application/vnd.jupyter.widget-view+json": {
       "model_id": "cb4030054b904e74871601c787bbc4ad",
       "version_major": 2,
       "version_minor": 0
      },
      "text/plain": [
       "  0%|          | 0/30 [00:00<?, ?it/s]"
      ]
     },
     "metadata": {},
     "output_type": "display_data"
    },
    {
     "data": {
      "application/vnd.jupyter.widget-view+json": {
       "model_id": "5b6d42098b8c456a952f739c12c9bc73",
       "version_major": 2,
       "version_minor": 0
      },
      "text/plain": [
       "  0%|          | 0/30 [00:00<?, ?it/s]"
      ]
     },
     "metadata": {},
     "output_type": "display_data"
    },
    {
     "data": {
      "application/vnd.jupyter.widget-view+json": {
       "model_id": "21be9498c07046888b9ed2ee89541539",
       "version_major": 2,
       "version_minor": 0
      },
      "text/plain": [
       "  0%|          | 0/30 [00:00<?, ?it/s]"
      ]
     },
     "metadata": {},
     "output_type": "display_data"
    }
   ],
   "source": [
    "num_arms = 5\n",
    "num_eval = 1000\n",
    "trials = 30\n",
    "data = [500, 1000, 5000, 10000, 50000, 250000]\n",
    "n = len(data)\n",
    "loss_opt_vec = np.zeros(n)\n",
    "loss_log_vec = np.zeros(n)\n",
    "loss_ls_vec = np.zeros(n)\n",
    "k = 0\n",
    "for dat in data:\n",
    "    num_data = dat\n",
    "    reg = Sigmoid_Regression(features[:num_data],tar[:num_data],d,50000,theta_star)\n",
    "    theta_log = reg.solve_Logit_Regression()\n",
    "    reg.solve_LS()\n",
    "    for j in tqdm(range(trials)):\n",
    "        loss_opt=0\n",
    "        loss_log=0\n",
    "        loss_ls=0\n",
    "        for i in (range(num_eval)):\n",
    "            X = np.random.uniform(low=-1.9,high=3.0,size=(num_features,d))\n",
    "            X[0,-1] = -1.0\n",
    "            \n",
    "            arm_opt = np.argmin(reg.p(np.dot(X,theta_star)))\n",
    "            L = np.random.binomial(1,p=reg.p(np.inner(X[arm_opt],theta_star)))\n",
    "            loss_opt += L\n",
    "\n",
    "            arm_log = np.argmin(reg.p(np.dot(X,theta_log.T)))\n",
    "            L = np.random.binomial(1,p=reg.p(np.inner(X[arm_log],theta_star)))\n",
    "            loss_log += L\n",
    "\n",
    "            arm_ls = np.argmin(reg.p(np.dot(X,reg.theta_ls)))\n",
    "            L = np.random.binomial(1,p=reg.p(np.inner(X[arm_ls],theta_star)))\n",
    "            loss_ls += L\n",
    "        loss_opt_vec[k] += loss_opt\n",
    "        loss_log_vec[k] += loss_log\n",
    "        loss_ls_vec[k] += loss_ls\n",
    "    k+=1"
   ]
  },
  {
   "cell_type": "code",
   "execution_count": 277,
   "id": "11bca0c0-b2c7-4182-b6fb-e7e800dcdb48",
   "metadata": {
    "execution": {
     "iopub.execute_input": "2023-08-30T21:48:11.481126Z",
     "iopub.status.busy": "2023-08-30T21:48:11.480544Z",
     "iopub.status.idle": "2023-08-30T21:48:11.486942Z",
     "shell.execute_reply": "2023-08-30T21:48:11.486225Z",
     "shell.execute_reply.started": "2023-08-30T21:48:11.481093Z"
    },
    "tags": []
   },
   "outputs": [
    {
     "data": {
      "text/plain": [
       "array([0.23333333, 0.13333333, 0.23333333, 0.1       , 0.23333333,\n",
       "       0.23333333])"
      ]
     },
     "execution_count": 277,
     "metadata": {},
     "output_type": "execute_result"
    }
   ],
   "source": [
    "loss_opt_vec/trials"
   ]
  },
  {
   "cell_type": "code",
   "execution_count": 278,
   "id": "08c3e15b-12dc-4918-8a35-5f0a29acf4b3",
   "metadata": {
    "execution": {
     "iopub.execute_input": "2023-08-30T21:48:11.581842Z",
     "iopub.status.busy": "2023-08-30T21:48:11.581217Z",
     "iopub.status.idle": "2023-08-30T21:48:11.722313Z",
     "shell.execute_reply": "2023-08-30T21:48:11.721553Z",
     "shell.execute_reply.started": "2023-08-30T21:48:11.581813Z"
    },
    "tags": []
   },
   "outputs": [
    {
     "data": {
      "text/plain": [
       "array([331.73333333, 327.73333333, 148.53333333, 146.23333333,\n",
       "       105.7       ,  21.56666667])"
      ]
     },
     "execution_count": 278,
     "metadata": {},
     "output_type": "execute_result"
    }
   ],
   "source": [
    "loss_log_vec/trials"
   ]
  },
  {
   "cell_type": "code",
   "execution_count": 279,
   "id": "dc282900-d73d-4183-a8c0-55c325cb2664",
   "metadata": {
    "execution": {
     "iopub.execute_input": "2023-08-30T21:48:11.754578Z",
     "iopub.status.busy": "2023-08-30T21:48:11.754146Z",
     "iopub.status.idle": "2023-08-30T21:48:11.871999Z",
     "shell.execute_reply": "2023-08-30T21:48:11.871260Z",
     "shell.execute_reply.started": "2023-08-30T21:48:11.754552Z"
    },
    "tags": []
   },
   "outputs": [
    {
     "data": {
      "text/plain": [
       "array([518.6       , 579.86666667, 266.43333333, 282.9       ,\n",
       "       304.13333333,  41.16666667])"
      ]
     },
     "execution_count": 279,
     "metadata": {},
     "output_type": "execute_result"
    }
   ],
   "source": [
    "loss_ls_vec/trials"
   ]
  },
  {
   "cell_type": "code",
   "execution_count": 280,
   "id": "d898c9ec-77df-413a-9ad8-a0c9712c7296",
   "metadata": {
    "execution": {
     "iopub.execute_input": "2023-08-30T21:48:11.873616Z",
     "iopub.status.busy": "2023-08-30T21:48:11.873352Z",
     "iopub.status.idle": "2023-08-30T21:48:12.649257Z",
     "shell.execute_reply": "2023-08-30T21:48:12.648523Z",
     "shell.execute_reply.started": "2023-08-30T21:48:11.873590Z"
    },
    "tags": []
   },
   "outputs": [
    {
     "data": {
      "image/png": "[encoded data removed]",
      "text/plain": [
       "<Figure size 640x480 with 1 Axes>"
      ]
     },
     "metadata": {},
     "output_type": "display_data"
    }
   ],
   "source": [
    "plt.loglog(data, loss_log_vec/(trials*num_eval),label='log')\n",
    "\n",
    "plt.loglog(data, loss_ls_vec/(trials*num_eval),label='sq')\n",
    "plt.loglog(data, 1 / np.array(data),label='1/n')\n",
    "plt.loglog(data, 1 / np.sqrt(np.array(data)),label='1/sqrt(n)')\n",
    "plt.legend()\n",
    "plt.show()"
   ]
  },
  {
   "cell_type": "code",
   "execution_count": 249,
   "id": "2fff092a-b26b-44c5-b7f9-bae78889edf2",
   "metadata": {
    "execution": {
     "iopub.execute_input": "2023-08-30T21:40:35.555450Z",
     "iopub.status.busy": "2023-08-30T21:40:35.555077Z",
     "iopub.status.idle": "2023-08-30T21:40:35.560861Z",
     "shell.execute_reply": "2023-08-30T21:40:35.560136Z",
     "shell.execute_reply.started": "2023-08-30T21:40:35.555423Z"
    },
    "tags": []
   },
   "outputs": [
    {
     "data": {
      "text/plain": [
       "array([1., 1., 1., ..., 1., 1., 1.])"
      ]
     },
     "execution_count": 249,
     "metadata": {},
     "output_type": "execute_result"
    }
   ],
   "source": [
    "tar"
   ]
  },
  {
   "cell_type": "code",
   "execution_count": null,
   "id": "266ba51d-0492-4dd6-9cff-536b571f69ba",
   "metadata": {},
   "outputs": [],
   "source": []
  }
 ],
 "metadata": {
  "kernelspec": {
   "display_name": "Python 3 (ipykernel)",
   "language": "python",
   "name": "python3"
  },
  "language_info": {
   "codemirror_mode": {
    "name": "ipython",
    "version": 3
   },
   "file_extension": ".py",
   "mimetype": "text/x-python",
   "name": "python",
   "nbconvert_exporter": "python",
   "pygments_lexer": "ipython3",
   "version": "3.7.12"
  },
  "nflx": {
   "sharing": {
    "created_at": "2023-08-26T03:11:28.333Z",
    "is_private": true
   }
  }
 },
 "nbformat": 4,
 "nbformat_minor": 5
}
