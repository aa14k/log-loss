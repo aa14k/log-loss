{
 "cells": [
  {
   "cell_type": "code",
   "execution_count": 34,
   "id": "5b77b2b8-d788-492d-9df3-8d21e6196705",
   "metadata": {
    "execution": {
     "iopub.execute_input": "2023-09-01T18:47:59.339852Z",
     "iopub.status.busy": "2023-09-01T18:47:59.339300Z",
     "iopub.status.idle": "2023-09-01T18:47:59.344556Z",
     "shell.execute_reply": "2023-09-01T18:47:59.343613Z",
     "shell.execute_reply.started": "2023-09-01T18:47:59.339816Z"
    },
    "tags": []
   },
   "outputs": [],
   "source": [
    "import numpy as np\n",
    "import scipy as sc\n",
    "from classifiers import Sigmoid_Regression\n",
    "from tqdm.notebook import tqdm\n",
    "import matplotlib.pyplot as plt\n",
    "import random"
   ]
  },
  {
   "attachments": {},
   "cell_type": "markdown",
   "id": "d623c68c-c6fc-44d6-980c-cb92e02f52a7",
   "metadata": {},
   "source": [
    "# Sigmoid Models with Logarithmic Loss\n",
    "\n",
    "Consider the following protocol: for $t=1,2,...,T$, nature chooses $x_t \\in \\mathbb{R}^d$ in each round, and then reveals a noisy label $y_t \\sim \\text{Ber}(p(x_t^\\top \\theta^\\star))$, where $\\theta^\\star \\in \\mathbb{R}^d$ is the unknown parameter and $p(z) = 1/(1 + e^{-x})$ is the link function. Our goal is to learn to make accurate predictions given a linear model class and any $x \\in \\mathbb{R}^d$, i.e., to predict $y^\\star(x) = p(x^\\top \\theta^\\star)$. One way of learning $\\theta^\\star$ given i.i.d samples of $\\{x_t,y_t\\}_{t=1}^T$ is to perform nonlinear least squares regression.\n",
    "\n",
    "Nonlinear least sqaures regression considers the following estimator and prediction: given $\\{x_t,y_t\\}_{t=1}^T$ compute:\n",
    "\n",
    "$$\n",
    "\\hat\\theta_T := \\arg\\min_{\\theta \\in \\mathbb{R}^d} \\sum_{t=1}^T \\left( p(x_t^\\top \\theta) - y_t\\right)^2 \n",
    "$$\n",
    "\n",
    "and set $\\hat y_T(x) := p(x^\\top \\hat\\theta_T)$. The estimator and the prediciton can also be solved using a number of popular nonlinear least sqaures solver, such as the Gauss Newton Algorithm. In the below code, we scipy's built in nonlinear least sqaures solver $\\href{https://docs.scipy.org/doc/scipy/reference/generated/scipy.optimize.least_squares.html}{\\texttt{scipy.optimize.least_squares}}$.\n",
    "\n",
    "Another way of learning $\\theta^\\star$  given i.i.d samples of $\\{x_t,y_t\\}_{t=1}^T$ is to perform regression with the negative logarithmic (cross-entropy) loss. \n",
    "\n",
    "Regression with negative logarithmic loss considers the following estimator and prediciton: given $\\{x_t,y_t\\}_{t=1}^T$ compute:\n",
    "\n",
    "$$\n",
    "\\hat\\theta_T := \\arg\\max_{\\theta \\in \\mathbb{R}^d} \\mathcal{L}(\\{x_t,y_t\\}_{t=1}^T;\\theta) = \\arg\\max_{\\theta \\in \\mathbb{R}^d}  \\sum_{t=1}^T y_t \\log(p(x_t^\\top \\theta)) + (1-y_t)\\log(1-p(x_t^\\top \\theta))\n",
    "$$\n",
    "and set $\\hat y_T(x) := p(x^\\top \\hat\\theta_T)$. The estimaotr and the prediciton cannot be solved in closed form, however the loss function defined above is concave in its argument. Therefore approximate solvers like Newtown's method or Gradient Descent, should be sufficient for finding the $\\theta$ that minimizes the negative logarithmic loss. Taking the first derivative of the loss $\\mathcal{L}$ we get:2*\n",
    "\n",
    "$$\n",
    "\\frac{\\partial}{\\partial \\theta}  \\mathcal{L}(\\{x_t,y_t\\}_{t=1}^T;\\theta) = g_T(\\theta) :=  \\sum_{t=1}^T (2 \\cdot y_t - \\tanh(x_t^\\top \\theta) - 1)x_t.\n",
    "$$\n",
    "\n",
    "Taking the second derivative of $\\mathcal{L}$ gives:\n",
    "\n",
    "$$\n",
    "\\frac{\\partial^2}{\\partial \\theta^2}  \\mathcal{L}(\\{x_t,y_t\\}_{t=1}^T;\\theta)= H_T(\\theta) :=  \\sum_{t=1}^T -\\frac{1}{2\\cdot\\cosh(x_t^\\top\\theta)} x_t x_t^\\top.\n",
    "$$\n",
    "\n",
    "Thus we can solve:\n",
    "\n",
    "$$\n",
    "\\hat\\theta_T := \\arg\\min_{\\theta \\in \\mathbb{R}^d} - \\mathcal{L}(\\{x_t,y_t\\}_{t=1}^T;\\theta)\n",
    "$$\n",
    "\n",
    "by applying Newton's method for $k=1,2,...,n$, i.e.\n",
    "\n",
    "$$\n",
    "\\theta_{k+1} = \\theta_k - \\left(H_T^{-1}(\\theta_k)\\right)^\\top g_t(\\theta_k).\n",
    "$$\n",
    "\n",
    "where $\\theta_0$ is initialized approprioately, i.e. $\\theta_0 \\sim \\mathcal{N}(0,I)$. Setting $\\hat\\theta_T = \\theta_n$ gives us our estimator and letting $\\hat y_T(x) = p(x^\\top \\hat\\theta_T)$ gives us our predictor. "
   ]
  },
  {
   "cell_type": "code",
   "execution_count": 72,
   "id": "a5337794-edde-42a5-aa65-bbd46f2ce180",
   "metadata": {
    "execution": {
     "iopub.execute_input": "2023-09-01T19:12:19.748380Z",
     "iopub.status.busy": "2023-09-01T19:12:19.747636Z",
     "iopub.status.idle": "2023-09-01T19:12:19.753140Z",
     "shell.execute_reply": "2023-09-01T19:12:19.752380Z",
     "shell.execute_reply.started": "2023-09-01T19:12:19.748344Z"
    },
    "tags": []
   },
   "outputs": [],
   "source": [
    "d = 15\n",
    "num_features = 50\n",
    "theta_star = np.random.uniform(low=0.5,high=2.0,size=d) \n",
    "theta_star[-1] = 10\n",
    "#theta_star = np.load('theta_star.npy')"
   ]
  },
  {
   "cell_type": "code",
   "execution_count": 73,
   "id": "798f87db-2ba0-4d13-8b6e-852ba7889312",
   "metadata": {
    "execution": {
     "iopub.execute_input": "2023-09-01T19:12:19.890153Z",
     "iopub.status.busy": "2023-09-01T19:12:19.889699Z",
     "iopub.status.idle": "2023-09-01T19:12:42.066007Z",
     "shell.execute_reply": "2023-09-01T19:12:42.065182Z",
     "shell.execute_reply.started": "2023-09-01T19:12:19.890126Z"
    },
    "tags": []
   },
   "outputs": [
    {
     "data": {
      "application/vnd.jupyter.widget-view+json": {
       "model_id": "22e819a39fd349f0b116f9ef1355d045",
       "version_major": 2,
       "version_minor": 0
      },
      "text/plain": [
       "  0%|          | 0/1000000 [00:00<?, ?it/s]"
      ]
     },
     "metadata": {},
     "output_type": "display_data"
    }
   ],
   "source": [
    "num_samples = 1000000\n",
    "features = np.zeros((num_samples,d))\n",
    "tar = np.zeros(num_samples)\n",
    "reg = Sigmoid_Regression(features[:d],tar[:d],d,50,theta_star)\n",
    "X = np.random.uniform(low=-0.2,high=1.0,size=(num_features,d)) \n",
    "for i in tqdm(range(num_samples)):\n",
    "    j = i % num_features\n",
    "    feature = X[j]\n",
    "    mean = reg.p(np.inner(X[j],theta_star))\n",
    "    obs = np.random.binomial(1,p=mean) \n",
    "    features[i] = feature\n",
    "    tar[i] = obs"
   ]
  },
  {
   "cell_type": "code",
   "execution_count": 77,
   "id": "302613b3-c8df-48e7-b635-55dcc8aa9fa3",
   "metadata": {
    "execution": {
     "iopub.execute_input": "2023-09-01T19:13:06.422022Z",
     "iopub.status.busy": "2023-09-01T19:13:06.421441Z",
     "iopub.status.idle": "2023-09-01T19:13:47.019689Z",
     "shell.execute_reply": "2023-09-01T19:13:47.018921Z",
     "shell.execute_reply.started": "2023-09-01T19:13:06.421987Z"
    },
    "tags": []
   },
   "outputs": [
    {
     "data": {
      "application/vnd.jupyter.widget-view+json": {
       "model_id": "d726a28a030944f697a5f786a64e610a",
       "version_major": 2,
       "version_minor": 0
      },
      "text/plain": [
       "  0%|          | 0/30 [00:00<?, ?it/s]"
      ]
     },
     "metadata": {},
     "output_type": "display_data"
    },
    {
     "data": {
      "application/vnd.jupyter.widget-view+json": {
       "model_id": "3376545dc8594118b6cec717ab1796df",
       "version_major": 2,
       "version_minor": 0
      },
      "text/plain": [
       "  0%|          | 0/30 [00:00<?, ?it/s]"
      ]
     },
     "metadata": {},
     "output_type": "display_data"
    },
    {
     "data": {
      "application/vnd.jupyter.widget-view+json": {
       "model_id": "f6d778dd89af4d5c9aa7c932c539a4ad",
       "version_major": 2,
       "version_minor": 0
      },
      "text/plain": [
       "  0%|          | 0/30 [00:00<?, ?it/s]"
      ]
     },
     "metadata": {},
     "output_type": "display_data"
    },
    {
     "data": {
      "application/vnd.jupyter.widget-view+json": {
       "model_id": "e701223d2916482ca6c63657d01349bf",
       "version_major": 2,
       "version_minor": 0
      },
      "text/plain": [
       "  0%|          | 0/30 [00:00<?, ?it/s]"
      ]
     },
     "metadata": {},
     "output_type": "display_data"
    },
    {
     "data": {
      "application/vnd.jupyter.widget-view+json": {
       "model_id": "3744cdc92a1f4fe8bc8b15bdfe3a6045",
       "version_major": 2,
       "version_minor": 0
      },
      "text/plain": [
       "  0%|          | 0/30 [00:00<?, ?it/s]"
      ]
     },
     "metadata": {},
     "output_type": "display_data"
    },
    {
     "data": {
      "application/vnd.jupyter.widget-view+json": {
       "model_id": "5ca1dc5fc0624e21809814a8b9f53f67",
       "version_major": 2,
       "version_minor": 0
      },
      "text/plain": [
       "  0%|          | 0/30 [00:00<?, ?it/s]"
      ]
     },
     "metadata": {},
     "output_type": "display_data"
    }
   ],
   "source": [
    "num_eval = 1000\n",
    "trials = 30\n",
    "data = [5000,10000,20000,50000,100000,250000]\n",
    "n = len(data)\n",
    "loss_opt_vec = np.zeros(n)\n",
    "loss_log_vec = np.zeros(n)\n",
    "loss_ls_vec = np.zeros(n)\n",
    "k = 0\n",
    "#idx = np.arange(num_samples)\n",
    "#random.shuffle(idx)\n",
    "\n",
    "for dat in data:\n",
    "    num_data = dat\n",
    "    train_idx = idx[:num_data]\n",
    "    reg = Sigmoid_Regression(features[train_idx],tar[train_idx],d,50000,theta_star)\n",
    "    theta_log = reg.solve_Logit_Regression()\n",
    "    reg.solve_LS()\n",
    "    for j in tqdm(range(trials)):\n",
    "        loss_opt=0\n",
    "        loss_log=0\n",
    "        loss_ls=0\n",
    "        for i in (range(num_eval)):\n",
    "            \n",
    "            X = np.random.uniform(low=-4.5,high=4.5,size = (num_features, d))\n",
    "            X[0,-1] = -0.5\n",
    "            \n",
    "            arm_opt = np.argmin(reg.p(np.dot(X,theta_star)))\n",
    "            L = np.random.binomial(1,p=reg.p(np.inner(X[arm_opt],theta_star)))\n",
    "            loss_opt += L\n",
    "\n",
    "            arm_log = np.argmin(reg.p(np.dot(X,theta_log.T)))\n",
    "            L = np.random.binomial(1,p=reg.p(np.inner(X[arm_log],theta_star)))\n",
    "            loss_log += L\n",
    "\n",
    "            arm_ls = np.argmin(reg.p(np.dot(X,reg.theta_ls)))\n",
    "            L = np.random.binomial(1,p=reg.p(np.inner(X[arm_ls],theta_star)))\n",
    "            loss_ls += L\n",
    "            \n",
    "        loss_opt_vec[k] += loss_opt\n",
    "        loss_log_vec[k] += loss_log\n",
    "        loss_ls_vec[k] += loss_ls\n",
    "    k+=1"
   ]
  },
  {
   "cell_type": "code",
   "execution_count": 78,
   "id": "11bca0c0-b2c7-4182-b6fb-e7e800dcdb48",
   "metadata": {
    "execution": {
     "iopub.execute_input": "2023-09-01T19:14:23.761193Z",
     "iopub.status.busy": "2023-09-01T19:14:23.760620Z",
     "iopub.status.idle": "2023-09-01T19:14:23.767127Z",
     "shell.execute_reply": "2023-09-01T19:14:23.766403Z",
     "shell.execute_reply.started": "2023-09-01T19:14:23.761159Z"
    },
    "tags": []
   },
   "outputs": [
    {
     "data": {
      "text/plain": [
       "array([0., 0., 0., 0., 0., 0.])"
      ]
     },
     "execution_count": 78,
     "metadata": {},
     "output_type": "execute_result"
    }
   ],
   "source": [
    "loss_opt_vec/trials"
   ]
  },
  {
   "cell_type": "code",
   "execution_count": 79,
   "id": "08c3e15b-12dc-4918-8a35-5f0a29acf4b3",
   "metadata": {
    "execution": {
     "iopub.execute_input": "2023-09-01T19:14:25.222819Z",
     "iopub.status.busy": "2023-09-01T19:14:25.222317Z",
     "iopub.status.idle": "2023-09-01T19:14:25.228443Z",
     "shell.execute_reply": "2023-09-01T19:14:25.227738Z",
     "shell.execute_reply.started": "2023-09-01T19:14:25.222787Z"
    },
    "tags": []
   },
   "outputs": [
    {
     "data": {
      "text/plain": [
       "array([186.63333333, 182.76666667,  25.2       ,   1.4       ,\n",
       "         0.        ,   0.        ])"
      ]
     },
     "execution_count": 79,
     "metadata": {},
     "output_type": "execute_result"
    }
   ],
   "source": [
    "loss_log_vec/trials"
   ]
  },
  {
   "cell_type": "code",
   "execution_count": 80,
   "id": "dc282900-d73d-4183-a8c0-55c325cb2664",
   "metadata": {
    "execution": {
     "iopub.execute_input": "2023-09-01T19:14:26.417141Z",
     "iopub.status.busy": "2023-09-01T19:14:26.416715Z",
     "iopub.status.idle": "2023-09-01T19:14:26.422415Z",
     "shell.execute_reply": "2023-09-01T19:14:26.421694Z",
     "shell.execute_reply.started": "2023-09-01T19:14:26.417114Z"
    },
    "tags": []
   },
   "outputs": [
    {
     "data": {
      "text/plain": [
       "array([288.8       , 248.4       , 192.86666667, 233.13333333,\n",
       "       255.33333333,  18.03333333])"
      ]
     },
     "execution_count": 80,
     "metadata": {},
     "output_type": "execute_result"
    }
   ],
   "source": [
    "loss_ls_vec/trials"
   ]
  },
  {
   "cell_type": "code",
   "execution_count": 81,
   "id": "d898c9ec-77df-413a-9ad8-a0c9712c7296",
   "metadata": {
    "execution": {
     "iopub.execute_input": "2023-09-01T19:14:27.429315Z",
     "iopub.status.busy": "2023-09-01T19:14:27.428766Z",
     "iopub.status.idle": "2023-09-01T19:14:27.998918Z",
     "shell.execute_reply": "2023-09-01T19:14:27.998114Z",
     "shell.execute_reply.started": "2023-09-01T19:14:27.429281Z"
    },
    "tags": []
   },
   "outputs": [
    {
     "data": {
      "image/png": "[encoded data removed]",
      "text/plain": [
       "<Figure size 640x480 with 1 Axes>"
      ]
     },
     "metadata": {},
     "output_type": "display_data"
    }
   ],
   "source": [
    "plt.loglog(data[:5], loss_log_vec[:5] / (trials * num_eval),label = 'log')\n",
    "\n",
    "plt.loglog(data[:5], loss_ls_vec[:5] / (trials * num_eval),label = 'sq')\n",
    "plt.loglog(data[:5], 1 / np.array(data[:5]),label = '1/n')\n",
    "plt.loglog(data[:5], 1 / np.sqrt(np.array(data[:5])), label = '1/sqrt(n)')\n",
    "plt.xlabel('size of training set')\n",
    "plt.ylabel('V($\\pi$)')\n",
    "plt.title('Value vs Size of Training Set')\n",
    "plt.legend()\n",
    "#plt.savefig('plot.pdf')\n",
    "plt.show()"
   ]
  },
  {
   "cell_type": "code",
   "execution_count": 9,
   "id": "2fff092a-b26b-44c5-b7f9-bae78889edf2",
   "metadata": {
    "execution": {
     "iopub.execute_input": "2023-08-31T16:36:45.898598Z",
     "iopub.status.busy": "2023-08-31T16:36:45.898127Z",
     "iopub.status.idle": "2023-08-31T16:36:45.902581Z",
     "shell.execute_reply": "2023-08-31T16:36:45.901833Z",
     "shell.execute_reply.started": "2023-08-31T16:36:45.898570Z"
    },
    "tags": []
   },
   "outputs": [],
   "source": [
    "x = np.arange(10)\n",
    "random.shuffle(x)"
   ]
  },
  {
   "cell_type": "code",
   "execution_count": 11,
   "id": "75ae5293-d670-49ac-9903-8a03d6330039",
   "metadata": {
    "execution": {
     "iopub.execute_input": "2023-08-31T16:37:37.817966Z",
     "iopub.status.busy": "2023-08-31T16:37:37.817377Z",
     "iopub.status.idle": "2023-08-31T16:37:38.618225Z",
     "shell.execute_reply": "2023-08-31T16:37:38.617251Z",
     "shell.execute_reply.started": "2023-08-31T16:37:37.817927Z"
    },
    "tags": []
   },
   "outputs": [],
   "source": []
  },
  {
   "cell_type": "code",
   "execution_count": null,
   "id": "c963a1bb-7182-4d01-a3b9-edf4dd244490",
   "metadata": {},
   "outputs": [],
   "source": []
  }
 ],
 "metadata": {
  "kernelspec": {
   "display_name": "Python 3 (ipykernel)",
   "language": "python",
   "name": "python3"
  },
  "language_info": {
   "codemirror_mode": {
    "name": "ipython",
    "version": 3
   },
   "file_extension": ".py",
   "mimetype": "text/x-python",
   "name": "python",
   "nbconvert_exporter": "python",
   "pygments_lexer": "ipython3",
   "version": "3.7.12"
  },
  "nflx": {
   "sharing": {
    "created_at": "2023-08-26T03:11:28.333Z",
    "is_private": true
   }
  }
 },
 "nbformat": 4,
 "nbformat_minor": 5
}
